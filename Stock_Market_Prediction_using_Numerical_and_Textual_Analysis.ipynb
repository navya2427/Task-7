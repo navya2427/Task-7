{
  "nbformat": 4,
  "nbformat_minor": 0,
  "metadata": {
    "colab": {
      "name": "Stock Market Prediction using Numerical and Textual Analysis.ipynb",
      "provenance": []
    },
    "kernelspec": {
      "name": "python3",
      "display_name": "Python 3"
    },
    "language_info": {
      "name": "python"
    }
  },
  "cells": [
    {
      "cell_type": "markdown",
      "metadata": {
        "id": "OG9DYUduOgCH"
      },
      "source": [
        "Importing Libraries:"
      ]
    },
    {
      "cell_type": "code",
      "metadata": {
        "id": "Gdcb3D0wBOSk"
      },
      "source": [
        "import pandas as pd\n",
        "import numpy as np  \n",
        "import matplotlib.pyplot as plt  \n",
        "%matplotlib inline\n",
        "import seaborn as sns"
      ],
      "execution_count": 74,
      "outputs": []
    },
    {
      "cell_type": "markdown",
      "metadata": {
        "id": "gJWKOEnsOk6S"
      },
      "source": [
        "Reading and Checking Data of Stock Dataset:"
      ]
    },
    {
      "cell_type": "code",
      "metadata": {
        "colab": {
          "base_uri": "https://localhost:8080/",
          "height": 202
        },
        "id": "V6OBZMkDBQ1Q",
        "outputId": "9ec07867-09d3-451e-d6cb-c4322881e0b4"
      },
      "source": [
        "data = pd.read_csv(\"GC=F.csv\")\n",
        "data.head()"
      ],
      "execution_count": 75,
      "outputs": [
        {
          "output_type": "execute_result",
          "data": {
            "text/html": [
              "<div>\n",
              "<style scoped>\n",
              "    .dataframe tbody tr th:only-of-type {\n",
              "        vertical-align: middle;\n",
              "    }\n",
              "\n",
              "    .dataframe tbody tr th {\n",
              "        vertical-align: top;\n",
              "    }\n",
              "\n",
              "    .dataframe thead th {\n",
              "        text-align: right;\n",
              "    }\n",
              "</style>\n",
              "<table border=\"1\" class=\"dataframe\">\n",
              "  <thead>\n",
              "    <tr style=\"text-align: right;\">\n",
              "      <th></th>\n",
              "      <th>Date</th>\n",
              "      <th>Open</th>\n",
              "      <th>High</th>\n",
              "      <th>Low</th>\n",
              "      <th>Close</th>\n",
              "      <th>Adj Close</th>\n",
              "      <th>Volume</th>\n",
              "    </tr>\n",
              "  </thead>\n",
              "  <tbody>\n",
              "    <tr>\n",
              "      <th>0</th>\n",
              "      <td>2020-04-17</td>\n",
              "      <td>1715.699951</td>\n",
              "      <td>1725.000000</td>\n",
              "      <td>1684.900024</td>\n",
              "      <td>1689.199951</td>\n",
              "      <td>1689.199951</td>\n",
              "      <td>223.0</td>\n",
              "    </tr>\n",
              "    <tr>\n",
              "      <th>1</th>\n",
              "      <td>2020-04-20</td>\n",
              "      <td>1686.000000</td>\n",
              "      <td>1701.599976</td>\n",
              "      <td>1680.000000</td>\n",
              "      <td>1701.599976</td>\n",
              "      <td>1701.599976</td>\n",
              "      <td>106.0</td>\n",
              "    </tr>\n",
              "    <tr>\n",
              "      <th>2</th>\n",
              "      <td>2020-04-21</td>\n",
              "      <td>1697.000000</td>\n",
              "      <td>1707.099976</td>\n",
              "      <td>1659.900024</td>\n",
              "      <td>1678.199951</td>\n",
              "      <td>1678.199951</td>\n",
              "      <td>666.0</td>\n",
              "    </tr>\n",
              "    <tr>\n",
              "      <th>3</th>\n",
              "      <td>2020-04-22</td>\n",
              "      <td>1696.000000</td>\n",
              "      <td>1728.699951</td>\n",
              "      <td>1684.800049</td>\n",
              "      <td>1728.699951</td>\n",
              "      <td>1728.699951</td>\n",
              "      <td>453.0</td>\n",
              "    </tr>\n",
              "    <tr>\n",
              "      <th>4</th>\n",
              "      <td>2020-04-23</td>\n",
              "      <td>1734.000000</td>\n",
              "      <td>1745.099976</td>\n",
              "      <td>1733.300049</td>\n",
              "      <td>1733.300049</td>\n",
              "      <td>1733.300049</td>\n",
              "      <td>482.0</td>\n",
              "    </tr>\n",
              "  </tbody>\n",
              "</table>\n",
              "</div>"
            ],
            "text/plain": [
              "         Date         Open         High  ...        Close    Adj Close  Volume\n",
              "0  2020-04-17  1715.699951  1725.000000  ...  1689.199951  1689.199951   223.0\n",
              "1  2020-04-20  1686.000000  1701.599976  ...  1701.599976  1701.599976   106.0\n",
              "2  2020-04-21  1697.000000  1707.099976  ...  1678.199951  1678.199951   666.0\n",
              "3  2020-04-22  1696.000000  1728.699951  ...  1728.699951  1728.699951   453.0\n",
              "4  2020-04-23  1734.000000  1745.099976  ...  1733.300049  1733.300049   482.0\n",
              "\n",
              "[5 rows x 7 columns]"
            ]
          },
          "metadata": {
            "tags": []
          },
          "execution_count": 75
        }
      ]
    },
    {
      "cell_type": "code",
      "metadata": {
        "colab": {
          "base_uri": "https://localhost:8080/"
        },
        "id": "6O_97RuxBVZf",
        "outputId": "67aadf39-1425-423e-b92d-dd524026c509"
      },
      "source": [
        "data.shape"
      ],
      "execution_count": 76,
      "outputs": [
        {
          "output_type": "execute_result",
          "data": {
            "text/plain": [
              "(252, 7)"
            ]
          },
          "metadata": {
            "tags": []
          },
          "execution_count": 76
        }
      ]
    },
    {
      "cell_type": "code",
      "metadata": {
        "colab": {
          "base_uri": "https://localhost:8080/"
        },
        "id": "7KJStB5ABh94",
        "outputId": "9115cf0b-5329-4e76-f4da-02fe5d580f9b"
      },
      "source": [
        "data.info()"
      ],
      "execution_count": 77,
      "outputs": [
        {
          "output_type": "stream",
          "text": [
            "<class 'pandas.core.frame.DataFrame'>\n",
            "RangeIndex: 252 entries, 0 to 251\n",
            "Data columns (total 7 columns):\n",
            " #   Column     Non-Null Count  Dtype  \n",
            "---  ------     --------------  -----  \n",
            " 0   Date       252 non-null    object \n",
            " 1   Open       250 non-null    float64\n",
            " 2   High       250 non-null    float64\n",
            " 3   Low        250 non-null    float64\n",
            " 4   Close      250 non-null    float64\n",
            " 5   Adj Close  250 non-null    float64\n",
            " 6   Volume     250 non-null    float64\n",
            "dtypes: float64(6), object(1)\n",
            "memory usage: 13.9+ KB\n"
          ],
          "name": "stdout"
        }
      ]
    },
    {
      "cell_type": "code",
      "metadata": {
        "colab": {
          "base_uri": "https://localhost:8080/"
        },
        "id": "O6acggw_BkFi",
        "outputId": "5e66c3f6-df11-4553-c4f6-9b069fbcf188"
      },
      "source": [
        "data.nunique()"
      ],
      "execution_count": 78,
      "outputs": [
        {
          "output_type": "execute_result",
          "data": {
            "text/plain": [
              "Date         252\n",
              "Open         242\n",
              "High         238\n",
              "Low          239\n",
              "Close        240\n",
              "Adj Close    240\n",
              "Volume       220\n",
              "dtype: int64"
            ]
          },
          "metadata": {
            "tags": []
          },
          "execution_count": 78
        }
      ]
    },
    {
      "cell_type": "code",
      "metadata": {
        "colab": {
          "base_uri": "https://localhost:8080/"
        },
        "id": "dlobzkcABnKU",
        "outputId": "f1391f0d-450b-409c-e8e7-65e68722f85a"
      },
      "source": [
        "list_columns = data.columns\n",
        "list_columns"
      ],
      "execution_count": 79,
      "outputs": [
        {
          "output_type": "execute_result",
          "data": {
            "text/plain": [
              "Index(['Date', 'Open', 'High', 'Low', 'Close', 'Adj Close', 'Volume'], dtype='object')"
            ]
          },
          "metadata": {
            "tags": []
          },
          "execution_count": 79
        }
      ]
    },
    {
      "cell_type": "code",
      "metadata": {
        "colab": {
          "base_uri": "https://localhost:8080/",
          "height": 294
        },
        "id": "OuGQ1X7lBpfD",
        "outputId": "56a2a4fd-9f02-47ed-8667-227bd067b265"
      },
      "source": [
        "data.describe()"
      ],
      "execution_count": 80,
      "outputs": [
        {
          "output_type": "execute_result",
          "data": {
            "text/html": [
              "<div>\n",
              "<style scoped>\n",
              "    .dataframe tbody tr th:only-of-type {\n",
              "        vertical-align: middle;\n",
              "    }\n",
              "\n",
              "    .dataframe tbody tr th {\n",
              "        vertical-align: top;\n",
              "    }\n",
              "\n",
              "    .dataframe thead th {\n",
              "        text-align: right;\n",
              "    }\n",
              "</style>\n",
              "<table border=\"1\" class=\"dataframe\">\n",
              "  <thead>\n",
              "    <tr style=\"text-align: right;\">\n",
              "      <th></th>\n",
              "      <th>Open</th>\n",
              "      <th>High</th>\n",
              "      <th>Low</th>\n",
              "      <th>Close</th>\n",
              "      <th>Adj Close</th>\n",
              "      <th>Volume</th>\n",
              "    </tr>\n",
              "  </thead>\n",
              "  <tbody>\n",
              "    <tr>\n",
              "      <th>count</th>\n",
              "      <td>250.000000</td>\n",
              "      <td>250.000000</td>\n",
              "      <td>250.000000</td>\n",
              "      <td>250.000000</td>\n",
              "      <td>250.000000</td>\n",
              "      <td>250.000000</td>\n",
              "    </tr>\n",
              "    <tr>\n",
              "      <th>mean</th>\n",
              "      <td>1827.046402</td>\n",
              "      <td>1837.653204</td>\n",
              "      <td>1815.976799</td>\n",
              "      <td>1826.981599</td>\n",
              "      <td>1826.981599</td>\n",
              "      <td>4485.168000</td>\n",
              "    </tr>\n",
              "    <tr>\n",
              "      <th>std</th>\n",
              "      <td>89.553277</td>\n",
              "      <td>90.481396</td>\n",
              "      <td>88.437663</td>\n",
              "      <td>89.258963</td>\n",
              "      <td>89.258963</td>\n",
              "      <td>25334.406287</td>\n",
              "    </tr>\n",
              "    <tr>\n",
              "      <th>min</th>\n",
              "      <td>1679.099976</td>\n",
              "      <td>1699.400024</td>\n",
              "      <td>1659.900024</td>\n",
              "      <td>1676.199951</td>\n",
              "      <td>1676.199951</td>\n",
              "      <td>4.000000</td>\n",
              "    </tr>\n",
              "    <tr>\n",
              "      <th>25%</th>\n",
              "      <td>1738.275025</td>\n",
              "      <td>1745.600006</td>\n",
              "      <td>1726.624970</td>\n",
              "      <td>1734.674988</td>\n",
              "      <td>1734.674988</td>\n",
              "      <td>136.500000</td>\n",
              "    </tr>\n",
              "    <tr>\n",
              "      <th>50%</th>\n",
              "      <td>1834.800049</td>\n",
              "      <td>1844.100036</td>\n",
              "      <td>1826.750000</td>\n",
              "      <td>1834.950012</td>\n",
              "      <td>1834.950012</td>\n",
              "      <td>329.500000</td>\n",
              "    </tr>\n",
              "    <tr>\n",
              "      <th>75%</th>\n",
              "      <td>1896.625000</td>\n",
              "      <td>1908.000000</td>\n",
              "      <td>1884.450012</td>\n",
              "      <td>1899.799957</td>\n",
              "      <td>1899.799957</td>\n",
              "      <td>750.500000</td>\n",
              "    </tr>\n",
              "    <tr>\n",
              "      <th>max</th>\n",
              "      <td>2045.500000</td>\n",
              "      <td>2063.000000</td>\n",
              "      <td>2040.000000</td>\n",
              "      <td>2051.500000</td>\n",
              "      <td>2051.500000</td>\n",
              "      <td>209835.000000</td>\n",
              "    </tr>\n",
              "  </tbody>\n",
              "</table>\n",
              "</div>"
            ],
            "text/plain": [
              "              Open         High  ...    Adj Close         Volume\n",
              "count   250.000000   250.000000  ...   250.000000     250.000000\n",
              "mean   1827.046402  1837.653204  ...  1826.981599    4485.168000\n",
              "std      89.553277    90.481396  ...    89.258963   25334.406287\n",
              "min    1679.099976  1699.400024  ...  1676.199951       4.000000\n",
              "25%    1738.275025  1745.600006  ...  1734.674988     136.500000\n",
              "50%    1834.800049  1844.100036  ...  1834.950012     329.500000\n",
              "75%    1896.625000  1908.000000  ...  1899.799957     750.500000\n",
              "max    2045.500000  2063.000000  ...  2051.500000  209835.000000\n",
              "\n",
              "[8 rows x 6 columns]"
            ]
          },
          "metadata": {
            "tags": []
          },
          "execution_count": 80
        }
      ]
    },
    {
      "cell_type": "markdown",
      "metadata": {
        "id": "Pu_1pMEWZ-Zm"
      },
      "source": [
        "Heatmap using Statistical Information of the dataframe:"
      ]
    },
    {
      "cell_type": "code",
      "metadata": {
        "colab": {
          "base_uri": "https://localhost:8080/",
          "height": 303
        },
        "id": "bZFNpyTGBsKR",
        "outputId": "85512f51-1855-4df2-a4f7-69210a8a36e2"
      },
      "source": [
        "plt.figure(figsize=(8,4))\n",
        "sns.heatmap(data.describe(), annot = True, fmt = '.2f', cmap = 'RdYlGn')\n",
        "plt.xticks(fontsize = 12)\n",
        "plt.yticks(fontsize = 12)\n",
        "plt.title(\"Heatmap\", fontsize = 16)"
      ],
      "execution_count": 81,
      "outputs": [
        {
          "output_type": "execute_result",
          "data": {
            "text/plain": [
              "Text(0.5, 1.0, 'Heatmap')"
            ]
          },
          "metadata": {
            "tags": []
          },
          "execution_count": 81
        },
        {
          "output_type": "display_data",
          "data": {
            "image/png": "[encoded data removed]",
            "text/plain": [
              "<Figure size 576x288 with 2 Axes>"
            ]
          },
          "metadata": {
            "tags": [],
            "needs_background": "light"
          }
        }
      ]
    },
    {
      "cell_type": "code",
      "metadata": {
        "colab": {
          "base_uri": "https://localhost:8080/"
        },
        "id": "rzMTy3BfBvo_",
        "outputId": "accbc26a-fff2-4f4c-8cbb-bee803ddcea0"
      },
      "source": [
        "data.isnull().sum()"
      ],
      "execution_count": 82,
      "outputs": [
        {
          "output_type": "execute_result",
          "data": {
            "text/plain": [
              "Date         0\n",
              "Open         2\n",
              "High         2\n",
              "Low          2\n",
              "Close        2\n",
              "Adj Close    2\n",
              "Volume       2\n",
              "dtype: int64"
            ]
          },
          "metadata": {
            "tags": []
          },
          "execution_count": 82
        }
      ]
    },
    {
      "cell_type": "code",
      "metadata": {
        "id": "8oNXiAMFByWH"
      },
      "source": [
        "data.dropna(inplace=True)"
      ],
      "execution_count": 83,
      "outputs": []
    },
    {
      "cell_type": "code",
      "metadata": {
        "colab": {
          "base_uri": "https://localhost:8080/"
        },
        "id": "R2oYf5UdB0p5",
        "outputId": "b9a5b07b-e6c0-466f-e985-902c9ac83bf6"
      },
      "source": [
        "data.isnull().sum()"
      ],
      "execution_count": 84,
      "outputs": [
        {
          "output_type": "execute_result",
          "data": {
            "text/plain": [
              "Date         0\n",
              "Open         0\n",
              "High         0\n",
              "Low          0\n",
              "Close        0\n",
              "Adj Close    0\n",
              "Volume       0\n",
              "dtype: int64"
            ]
          },
          "metadata": {
            "tags": []
          },
          "execution_count": 84
        }
      ]
    },
    {
      "cell_type": "code",
      "metadata": {
        "colab": {
          "base_uri": "https://localhost:8080/"
        },
        "id": "OYPKuvEuB2vW",
        "outputId": "6205cfb9-cf96-4568-c566-15dfa5c67a87"
      },
      "source": [
        "data.dtypes"
      ],
      "execution_count": 85,
      "outputs": [
        {
          "output_type": "execute_result",
          "data": {
            "text/plain": [
              "Date          object\n",
              "Open         float64\n",
              "High         float64\n",
              "Low          float64\n",
              "Close        float64\n",
              "Adj Close    float64\n",
              "Volume       float64\n",
              "dtype: object"
            ]
          },
          "metadata": {
            "tags": []
          },
          "execution_count": 85
        }
      ]
    },
    {
      "cell_type": "code",
      "metadata": {
        "id": "r4M2qyiFB6Vu"
      },
      "source": [
        "data['Date'] = pd.to_datetime(data['Date'] ,format='%Y-%m-%d')\n",
        "data.index = data['Date']"
      ],
      "execution_count": 86,
      "outputs": []
    },
    {
      "cell_type": "markdown",
      "metadata": {
        "id": "TfsAUx9fO0l_"
      },
      "source": [
        "History of trading open price:"
      ]
    },
    {
      "cell_type": "code",
      "metadata": {
        "colab": {
          "base_uri": "https://localhost:8080/",
          "height": 301
        },
        "id": "V-5M2jqQB8u_",
        "outputId": "3403f308-d98f-43bf-981b-851d1c028e59"
      },
      "source": [
        "plt.figure(figsize=(8,4))\n",
        "plt.plot(data['Date'], data['Open'])\n",
        "plt.title(\"Open Price History\", fontsize = 16)\n",
        "plt.xlabel(\"Date\", fontsize = 14)\n",
        "plt.ylabel(\"Price\", fontsize = 14)\n",
        "plt.show()"
      ],
      "execution_count": 87,
      "outputs": [
        {
          "output_type": "display_data",
          "data": {
            "image/png": "[encoded data removed]",
            "text/plain": [
              "<Figure size 576x288 with 1 Axes>"
            ]
          },
          "metadata": {
            "tags": [],
            "needs_background": "light"
          }
        }
      ]
    },
    {
      "cell_type": "markdown",
      "metadata": {
        "id": "rIv2hRsAO5Mc"
      },
      "source": [
        "History of trading close price:"
      ]
    },
    {
      "cell_type": "code",
      "metadata": {
        "colab": {
          "base_uri": "https://localhost:8080/",
          "height": 301
        },
        "id": "4ZmLbaPJCA0b",
        "outputId": "12627edc-41ac-4666-c062-06b674f0445d"
      },
      "source": [
        "plt.figure(figsize=(8,4))\n",
        "plt.plot(data['Date'], data['Close'])\n",
        "plt.title(\"Close Price History\", fontsize = 16)\n",
        "plt.xlabel(\"Date\", fontsize = 14)\n",
        "plt.ylabel(\"Price\", fontsize = 14)\n",
        "plt.show()\n"
      ],
      "execution_count": 88,
      "outputs": [
        {
          "output_type": "display_data",
          "data": {
            "image/png": "[encoded data removed]",
            "text/plain": [
              "<Figure size 576x288 with 1 Axes>"
            ]
          },
          "metadata": {
            "tags": [],
            "needs_background": "light"
          }
        }
      ]
    },
    {
      "cell_type": "markdown",
      "metadata": {
        "id": "OqrI1F6AO-3Q"
      },
      "source": [
        "History of stock price growth:"
      ]
    },
    {
      "cell_type": "code",
      "metadata": {
        "colab": {
          "base_uri": "https://localhost:8080/",
          "height": 301
        },
        "id": "UCYGDSCnCFyI",
        "outputId": "74ed182d-d240-4562-fdb9-a6493c2ead97"
      },
      "source": [
        "plt.figure(figsize=(8,4))\n",
        "plt.plot(data['Date'], data['High'])\n",
        "plt.title(\"Stock Price Growth History\", fontsize = 16)\n",
        "plt.xlabel(\"Date\", fontsize = 14)\n",
        "plt.ylabel(\"Price\", fontsize = 14)\n",
        "plt.show()"
      ],
      "execution_count": 89,
      "outputs": [
        {
          "output_type": "display_data",
          "data": {
            "image/png": "[encoded data removed]",
            "text/plain": [
              "<Figure size 576x288 with 1 Axes>"
            ]
          },
          "metadata": {
            "tags": [],
            "needs_background": "light"
          }
        }
      ]
    },
    {
      "cell_type": "markdown",
      "metadata": {
        "id": "es3Nbg7aPDis"
      },
      "source": [
        "History of low stock price:"
      ]
    },
    {
      "cell_type": "code",
      "metadata": {
        "colab": {
          "base_uri": "https://localhost:8080/",
          "height": 301
        },
        "id": "gDQejk4wCI1c",
        "outputId": "4022b417-2f08-42ef-c5f0-480a6c94cdb3"
      },
      "source": [
        "plt.figure(figsize=(8,4))\n",
        "plt.plot(data['Date'], data['Low'])\n",
        "plt.title(\"Stock Price lower History\", fontsize = 16)\n",
        "plt.xlabel(\"Date\", fontsize = 14)\n",
        "plt.ylabel(\"Price\", fontsize = 14)\n",
        "plt.show()"
      ],
      "execution_count": 90,
      "outputs": [
        {
          "output_type": "display_data",
          "data": {
            "image/png": "[encoded data removed]",
            "text/plain": [
              "<Figure size 576x288 with 1 Axes>"
            ]
          },
          "metadata": {
            "tags": [],
            "needs_background": "light"
          }
        }
      ]
    },
    {
      "cell_type": "markdown",
      "metadata": {
        "id": "svEakrEdPI8U"
      },
      "source": [
        "History of adjusted close stock price:"
      ]
    },
    {
      "cell_type": "code",
      "metadata": {
        "colab": {
          "base_uri": "https://localhost:8080/",
          "height": 301
        },
        "id": "2yAu-BC6CMKx",
        "outputId": "610d7bb5-aa3f-44e9-e3d9-b534a7d997ca"
      },
      "source": [
        "plt.figure(figsize=(8,4))\n",
        "plt.plot(data['Date'], data['Adj Close'])\n",
        "plt.title(\"Stock Price of Adjusted Close\", fontsize = 16)\n",
        "plt.xlabel(\"Date\", fontsize = 14)\n",
        "plt.ylabel(\"Price\", fontsize = 14)\n",
        "plt.show()"
      ],
      "execution_count": 91,
      "outputs": [
        {
          "output_type": "display_data",
          "data": {
            "image/png": "[encoded data removed]",
            "text/plain": [
              "<Figure size 576x288 with 1 Axes>"
            ]
          },
          "metadata": {
            "tags": [],
            "needs_background": "light"
          }
        }
      ]
    },
    {
      "cell_type": "markdown",
      "metadata": {
        "id": "mb4TMf9SPXqZ"
      },
      "source": [
        "History of stock price volume:"
      ]
    },
    {
      "cell_type": "code",
      "metadata": {
        "colab": {
          "base_uri": "https://localhost:8080/",
          "height": 301
        },
        "id": "mmp4KP80CP09",
        "outputId": "31688938-2276-463f-fafb-0d18727e24e8"
      },
      "source": [
        "plt.figure(figsize=(8,4))\n",
        "plt.plot(data['Date'], data['Volume'])\n",
        "plt.title(\"Stock Price Volume\", fontsize = 16)\n",
        "plt.xlabel(\"Date\", fontsize = 14)\n",
        "plt.ylabel(\"Price\", fontsize = 14)\n",
        "plt.show()"
      ],
      "execution_count": 92,
      "outputs": [
        {
          "output_type": "display_data",
          "data": {
            "image/png": "[encoded data removed]",
            "text/plain": [
              "<Figure size 576x288 with 1 Axes>"
            ]
          },
          "metadata": {
            "tags": [],
            "needs_background": "light"
          }
        }
      ]
    },
    {
      "cell_type": "markdown",
      "metadata": {
        "id": "hqKW-nFLPc63"
      },
      "source": [
        "Stock market volume price Prediction:"
      ]
    },
    {
      "cell_type": "markdown",
      "metadata": {
        "id": "54oUDufZPg68"
      },
      "source": [
        "Assigning values for x and y:"
      ]
    },
    {
      "cell_type": "code",
      "metadata": {
        "id": "-mmoOkTgCS5m"
      },
      "source": [
        "x = data.iloc[:, 1:7].values\n",
        "y = data.iloc[:, -1].values\n"
      ],
      "execution_count": 93,
      "outputs": []
    },
    {
      "cell_type": "markdown",
      "metadata": {
        "id": "pfSJzwZUPm4M"
      },
      "source": [
        "Splitting the dataset using train_test_split:"
      ]
    },
    {
      "cell_type": "code",
      "metadata": {
        "id": "hR78eXFSCZ1b"
      },
      "source": [
        "from sklearn.model_selection import train_test_split\n",
        "\n",
        "x_train, x_test, y_train, y_test = train_test_split(x, y, test_size = 1/3, random_state = 0)"
      ],
      "execution_count": 94,
      "outputs": []
    },
    {
      "cell_type": "markdown",
      "metadata": {
        "id": "_USOqJN9PsaA"
      },
      "source": [
        "Standard Scale transform:"
      ]
    },
    {
      "cell_type": "code",
      "metadata": {
        "id": "WtjbpXqgCcoR"
      },
      "source": [
        "from sklearn.preprocessing import StandardScaler\n",
        "sc = StandardScaler()\n",
        "x_train = sc.fit_transform(x_train)\n",
        "x_test = sc.transform(x_test)"
      ],
      "execution_count": 95,
      "outputs": []
    },
    {
      "cell_type": "markdown",
      "metadata": {
        "id": "gMlPUPwcPw9m"
      },
      "source": [
        "Random Forest Regression model training on the Training set:"
      ]
    },
    {
      "cell_type": "code",
      "metadata": {
        "colab": {
          "base_uri": "https://localhost:8080/"
        },
        "id": "cmYITlchCeze",
        "outputId": "049dbd25-03e5-4afd-dd51-d6da8b98a48b"
      },
      "source": [
        "from sklearn.ensemble import RandomForestRegressor\n",
        "\n",
        "regressor = RandomForestRegressor(n_estimators = 10, random_state = 0)\n",
        "regressor.fit(x_train, y_train)\n",
        "\n",
        "print(\"The Random Forest Regression model trained\")"
      ],
      "execution_count": 96,
      "outputs": [
        {
          "output_type": "stream",
          "text": [
            "The Random Forest Regression model trained\n"
          ],
          "name": "stdout"
        }
      ]
    },
    {
      "cell_type": "code",
      "metadata": {
        "colab": {
          "base_uri": "https://localhost:8080/"
        },
        "id": "5SezFBsqCh9T",
        "outputId": "bea4c464-fb03-4cad-ac4e-6f233239503a"
      },
      "source": [
        "y_pred = regressor.predict(x_test)\n",
        "y_pred"
      ],
      "execution_count": 97,
      "outputs": [
        {
          "output_type": "execute_result",
          "data": {
            "text/plain": [
              "array([7.480000e+01, 5.956000e+02, 3.012500e+03, 1.697700e+03,\n",
              "       1.054300e+03, 1.509200e+03, 1.200600e+03, 2.068000e+02,\n",
              "       2.470000e+01, 1.256191e+05, 4.942000e+02, 5.270000e+01,\n",
              "       5.140000e+01, 1.521000e+02, 7.303000e+02, 3.012500e+03,\n",
              "       1.852000e+02, 7.280000e+02, 1.853600e+03, 7.520000e+01,\n",
              "       2.264900e+03, 1.272600e+03, 2.195340e+04, 3.684000e+02,\n",
              "       1.576000e+02, 1.768000e+02, 3.703000e+02, 7.448000e+02,\n",
              "       1.256191e+05, 7.186000e+02, 5.109000e+02, 1.866400e+03,\n",
              "       5.000000e+00, 7.480000e+01, 2.579000e+02, 2.393000e+02,\n",
              "       1.175500e+03, 2.214000e+02, 1.697000e+02, 2.622000e+02,\n",
              "       1.437400e+03, 7.480000e+01, 3.570000e+01, 4.618000e+02,\n",
              "       9.540000e+01, 1.733000e+02, 1.273000e+02, 1.273800e+03,\n",
              "       9.470000e+01, 1.124000e+02, 1.256191e+05, 1.174500e+03,\n",
              "       3.298000e+02, 2.194200e+03, 1.641000e+02, 7.248000e+02,\n",
              "       1.338000e+02, 4.271000e+02, 1.390000e+01, 3.283000e+02,\n",
              "       8.639000e+02, 6.792000e+02, 1.239400e+03, 7.218000e+02,\n",
              "       1.289000e+02, 4.692000e+02, 8.004000e+02, 2.544000e+02,\n",
              "       2.930000e+01, 1.630000e+01, 2.614000e+02, 1.203000e+02,\n",
              "       2.701000e+02, 7.418000e+02, 2.200000e+02, 7.510000e+01,\n",
              "       1.228700e+03, 4.692000e+02, 5.177000e+02, 1.691000e+02,\n",
              "       1.866000e+02, 3.285000e+02, 2.164000e+02, 3.790000e+01])"
            ]
          },
          "metadata": {
            "tags": []
          },
          "execution_count": 97
        }
      ]
    },
    {
      "cell_type": "markdown",
      "metadata": {
        "id": "kIniCFd0nbZT"
      },
      "source": [
        "Visualizing the Train Result:"
      ]
    },
    {
      "cell_type": "code",
      "metadata": {
        "colab": {
          "base_uri": "https://localhost:8080/",
          "height": 32
        },
        "id": "LR_fJSe-Cl_w",
        "outputId": "6c280196-af02-4603-9a4e-185f1ed278d9"
      },
      "source": [
        "df = pd.DataFrame()\n",
        "df"
      ],
      "execution_count": 98,
      "outputs": [
        {
          "output_type": "execute_result",
          "data": {
            "text/html": [
              "<div>\n",
              "<style scoped>\n",
              "    .dataframe tbody tr th:only-of-type {\n",
              "        vertical-align: middle;\n",
              "    }\n",
              "\n",
              "    .dataframe tbody tr th {\n",
              "        vertical-align: top;\n",
              "    }\n",
              "\n",
              "    .dataframe thead th {\n",
              "        text-align: right;\n",
              "    }\n",
              "</style>\n",
              "<table border=\"1\" class=\"dataframe\">\n",
              "  <thead>\n",
              "    <tr style=\"text-align: right;\">\n",
              "      <th></th>\n",
              "    </tr>\n",
              "  </thead>\n",
              "  <tbody>\n",
              "  </tbody>\n",
              "</table>\n",
              "</div>"
            ],
            "text/plain": [
              "Empty DataFrame\n",
              "Columns: []\n",
              "Index: []"
            ]
          },
          "metadata": {
            "tags": []
          },
          "execution_count": 98
        }
      ]
    },
    {
      "cell_type": "code",
      "metadata": {
        "colab": {
          "base_uri": "https://localhost:8080/"
        },
        "id": "-K4VyPIxCpei",
        "outputId": "3f5a175b-7fe8-49ec-e1d1-720437d277c1"
      },
      "source": [
        "Pred_x_train = regressor.predict(x_train)\n",
        "\n",
        "df['predict_train'] = Pred_x_train\n",
        "df['predict_train']"
      ],
      "execution_count": 99,
      "outputs": [
        {
          "output_type": "execute_result",
          "data": {
            "text/plain": [
              "0      330.4\n",
              "1      890.0\n",
              "2      335.2\n",
              "3      184.8\n",
              "4      477.9\n",
              "       ...  \n",
              "161    133.0\n",
              "162     25.4\n",
              "163    516.5\n",
              "164    969.8\n",
              "165    232.6\n",
              "Name: predict_train, Length: 166, dtype: float64"
            ]
          },
          "metadata": {
            "tags": []
          },
          "execution_count": 99
        }
      ]
    },
    {
      "cell_type": "code",
      "metadata": {
        "colab": {
          "base_uri": "https://localhost:8080/",
          "height": 301
        },
        "id": "rQKSaG4gCsfo",
        "outputId": "87b59588-20ad-4d06-94cf-757a231920e5"
      },
      "source": [
        "plt.figure(figsize=(8,4))\n",
        "plt.plot(df['predict_train'])\n",
        "plt.title(\"Stock Price Volume Train Result\", fontsize = 16)\n",
        "plt.xlabel(\"Date\", fontsize = 14)\n",
        "plt.ylabel(\"Price\", fontsize = 14)\n",
        "plt.show()"
      ],
      "execution_count": 100,
      "outputs": [
        {
          "output_type": "display_data",
          "data": {
            "image/png": "[encoded data removed]",
            "text/plain": [
              "<Figure size 576x288 with 1 Axes>"
            ]
          },
          "metadata": {
            "tags": [],
            "needs_background": "light"
          }
        }
      ]
    },
    {
      "cell_type": "markdown",
      "metadata": {
        "id": "jJmurN0fQAua"
      },
      "source": [
        "Visualizing the Test Result:"
      ]
    },
    {
      "cell_type": "code",
      "metadata": {
        "colab": {
          "base_uri": "https://localhost:8080/",
          "height": 32
        },
        "id": "SQ26Ir1oCyC_",
        "outputId": "8eb928f7-cea2-4ebe-a3bd-b120621aa963"
      },
      "source": [
        "df1 = pd.DataFrame()\n",
        "df1"
      ],
      "execution_count": 101,
      "outputs": [
        {
          "output_type": "execute_result",
          "data": {
            "text/html": [
              "<div>\n",
              "<style scoped>\n",
              "    .dataframe tbody tr th:only-of-type {\n",
              "        vertical-align: middle;\n",
              "    }\n",
              "\n",
              "    .dataframe tbody tr th {\n",
              "        vertical-align: top;\n",
              "    }\n",
              "\n",
              "    .dataframe thead th {\n",
              "        text-align: right;\n",
              "    }\n",
              "</style>\n",
              "<table border=\"1\" class=\"dataframe\">\n",
              "  <thead>\n",
              "    <tr style=\"text-align: right;\">\n",
              "      <th></th>\n",
              "    </tr>\n",
              "  </thead>\n",
              "  <tbody>\n",
              "  </tbody>\n",
              "</table>\n",
              "</div>"
            ],
            "text/plain": [
              "Empty DataFrame\n",
              "Columns: []\n",
              "Index: []"
            ]
          },
          "metadata": {
            "tags": []
          },
          "execution_count": 101
        }
      ]
    },
    {
      "cell_type": "code",
      "metadata": {
        "colab": {
          "base_uri": "https://localhost:8080/"
        },
        "id": "Av6SoelYC25W",
        "outputId": "89082095-b22d-4176-d00b-9a9a02b27c63"
      },
      "source": [
        "df1['predict'] = y_pred\n",
        "df1['predict']"
      ],
      "execution_count": 102,
      "outputs": [
        {
          "output_type": "execute_result",
          "data": {
            "text/plain": [
              "0       74.8\n",
              "1      595.6\n",
              "2     3012.5\n",
              "3     1697.7\n",
              "4     1054.3\n",
              "       ...  \n",
              "79     169.1\n",
              "80     186.6\n",
              "81     328.5\n",
              "82     216.4\n",
              "83      37.9\n",
              "Name: predict, Length: 84, dtype: float64"
            ]
          },
          "metadata": {
            "tags": []
          },
          "execution_count": 102
        }
      ]
    },
    {
      "cell_type": "code",
      "metadata": {
        "colab": {
          "base_uri": "https://localhost:8080/",
          "height": 283
        },
        "id": "6M4m-T7AC48X",
        "outputId": "12a02506-20e7-48f5-dbdc-f69da2ab7a88"
      },
      "source": [
        "plt.figure(figsize=(8,4))\n",
        "plt.plot(df1['predict'])\n",
        "plt.title(\"Stock Price Volume Test Result\", fontsize = 16)\n",
        "plt.ylabel(\"Price\", fontsize = 14)\n",
        "plt.show()"
      ],
      "execution_count": 103,
      "outputs": [
        {
          "output_type": "display_data",
          "data": {
            "image/png": "[encoded data removed]",
            "text/plain": [
              "<Figure size 576x288 with 1 Axes>"
            ]
          },
          "metadata": {
            "tags": [],
            "needs_background": "light"
          }
        }
      ]
    },
    {
      "cell_type": "markdown",
      "metadata": {
        "id": "TM0pP2UxQJWV"
      },
      "source": [
        "Accuracy of model:"
      ]
    },
    {
      "cell_type": "code",
      "metadata": {
        "colab": {
          "base_uri": "https://localhost:8080/"
        },
        "id": "-lhjTuycC7vc",
        "outputId": "e764fe1b-ae8b-4d66-dff9-37db9d624371"
      },
      "source": [
        "print(\"Accuracy score : \", np.mean(y_pred==y_test))"
      ],
      "execution_count": 104,
      "outputs": [
        {
          "output_type": "stream",
          "text": [
            "Accuracy score :  0.023809523809523808\n"
          ],
          "name": "stdout"
        }
      ]
    },
    {
      "cell_type": "markdown",
      "metadata": {
        "id": "A5wAWLOSQRJK"
      },
      "source": [
        "Reading and Checking dataset of India News:"
      ]
    },
    {
      "cell_type": "code",
      "metadata": {
        "colab": {
          "base_uri": "https://localhost:8080/",
          "height": 202
        },
        "id": "ajX0yECOv_9W",
        "outputId": "f4a848c7-57c3-49c5-ade8-9fc6eac0d9d2"
      },
      "source": [
        "news_df = pd.read_csv('india-news-headlines.csv')\n",
        "news_df.head()"
      ],
      "execution_count": 105,
      "outputs": [
        {
          "output_type": "execute_result",
          "data": {
            "text/html": [
              "<div>\n",
              "<style scoped>\n",
              "    .dataframe tbody tr th:only-of-type {\n",
              "        vertical-align: middle;\n",
              "    }\n",
              "\n",
              "    .dataframe tbody tr th {\n",
              "        vertical-align: top;\n",
              "    }\n",
              "\n",
              "    .dataframe thead th {\n",
              "        text-align: right;\n",
              "    }\n",
              "</style>\n",
              "<table border=\"1\" class=\"dataframe\">\n",
              "  <thead>\n",
              "    <tr style=\"text-align: right;\">\n",
              "      <th></th>\n",
              "      <th>publish_date</th>\n",
              "      <th>headline_category</th>\n",
              "      <th>headline_text</th>\n",
              "    </tr>\n",
              "  </thead>\n",
              "  <tbody>\n",
              "    <tr>\n",
              "      <th>0</th>\n",
              "      <td>20010102</td>\n",
              "      <td>unknown</td>\n",
              "      <td>Status quo will not be disturbed at Ayodhya; s...</td>\n",
              "    </tr>\n",
              "    <tr>\n",
              "      <th>1</th>\n",
              "      <td>20010102</td>\n",
              "      <td>unknown</td>\n",
              "      <td>Fissures in Hurriyat over Pak visit</td>\n",
              "    </tr>\n",
              "    <tr>\n",
              "      <th>2</th>\n",
              "      <td>20010102</td>\n",
              "      <td>unknown</td>\n",
              "      <td>America's unwanted heading for India?</td>\n",
              "    </tr>\n",
              "    <tr>\n",
              "      <th>3</th>\n",
              "      <td>20010102</td>\n",
              "      <td>unknown</td>\n",
              "      <td>For bigwigs; it is destination Goa</td>\n",
              "    </tr>\n",
              "    <tr>\n",
              "      <th>4</th>\n",
              "      <td>20010102</td>\n",
              "      <td>unknown</td>\n",
              "      <td>Extra buses to clear tourist traffic</td>\n",
              "    </tr>\n",
              "  </tbody>\n",
              "</table>\n",
              "</div>"
            ],
            "text/plain": [
              "   publish_date  ...                                      headline_text\n",
              "0      20010102  ...  Status quo will not be disturbed at Ayodhya; s...\n",
              "1      20010102  ...                Fissures in Hurriyat over Pak visit\n",
              "2      20010102  ...              America's unwanted heading for India?\n",
              "3      20010102  ...                 For bigwigs; it is destination Goa\n",
              "4      20010102  ...               Extra buses to clear tourist traffic\n",
              "\n",
              "[5 rows x 3 columns]"
            ]
          },
          "metadata": {
            "tags": []
          },
          "execution_count": 105
        }
      ]
    },
    {
      "cell_type": "code",
      "metadata": {
        "colab": {
          "base_uri": "https://localhost:8080/"
        },
        "id": "aUtGr_7ZDO4m",
        "outputId": "d1d9042e-33e9-4687-cd18-6e4ad8db9f62"
      },
      "source": [
        "news_df.shape"
      ],
      "execution_count": 106,
      "outputs": [
        {
          "output_type": "execute_result",
          "data": {
            "text/plain": [
              "(3424067, 3)"
            ]
          },
          "metadata": {
            "tags": []
          },
          "execution_count": 106
        }
      ]
    },
    {
      "cell_type": "code",
      "metadata": {
        "colab": {
          "base_uri": "https://localhost:8080/"
        },
        "id": "ula3NHEnDV0R",
        "outputId": "60938a93-909c-4407-e76e-7faaad6434f1"
      },
      "source": [
        "news_df.info()"
      ],
      "execution_count": 107,
      "outputs": [
        {
          "output_type": "stream",
          "text": [
            "<class 'pandas.core.frame.DataFrame'>\n",
            "RangeIndex: 3424067 entries, 0 to 3424066\n",
            "Data columns (total 3 columns):\n",
            " #   Column             Dtype \n",
            "---  ------             ----- \n",
            " 0   publish_date       int64 \n",
            " 1   headline_category  object\n",
            " 2   headline_text      object\n",
            "dtypes: int64(1), object(2)\n",
            "memory usage: 78.4+ MB\n"
          ],
          "name": "stdout"
        }
      ]
    },
    {
      "cell_type": "code",
      "metadata": {
        "colab": {
          "base_uri": "https://localhost:8080/"
        },
        "id": "U_gUfZrkDalY",
        "outputId": "f7a4e8d0-f260-4ea2-90c7-8c88077f4bb3"
      },
      "source": [
        "news_df.dtypes"
      ],
      "execution_count": 108,
      "outputs": [
        {
          "output_type": "execute_result",
          "data": {
            "text/plain": [
              "publish_date          int64\n",
              "headline_category    object\n",
              "headline_text        object\n",
              "dtype: object"
            ]
          },
          "metadata": {
            "tags": []
          },
          "execution_count": 108
        }
      ]
    },
    {
      "cell_type": "code",
      "metadata": {
        "colab": {
          "base_uri": "https://localhost:8080/"
        },
        "id": "D_qW112ADdnz",
        "outputId": "cad1b565-d05c-4c76-a4a7-bea56bb71815"
      },
      "source": [
        "news_df['headline_text']"
      ],
      "execution_count": 109,
      "outputs": [
        {
          "output_type": "execute_result",
          "data": {
            "text/plain": [
              "0          Status quo will not be disturbed at Ayodhya; s...\n",
              "1                        Fissures in Hurriyat over Pak visit\n",
              "2                      America's unwanted heading for India?\n",
              "3                         For bigwigs; it is destination Goa\n",
              "4                       Extra buses to clear tourist traffic\n",
              "                                 ...                        \n",
              "3424062    Covid-19: Despite dip in cases; Rajasthan amon...\n",
              "3424063    Covid-19: Despite dip in cases; Rajasthan amon...\n",
              "3424064    Covid-19: Despite dip in cases; Rajasthan amon...\n",
              "3424065    Govt extends deadline for use of FASTag till F...\n",
              "3424066    Celebs plan to party safely and responsibly on...\n",
              "Name: headline_text, Length: 3424067, dtype: object"
            ]
          },
          "metadata": {
            "tags": []
          },
          "execution_count": 109
        }
      ]
    },
    {
      "cell_type": "markdown",
      "metadata": {
        "id": "BICTX2jGQZoo"
      },
      "source": [
        "Removing Duplicates:"
      ]
    },
    {
      "cell_type": "code",
      "metadata": {
        "colab": {
          "base_uri": "https://localhost:8080/",
          "height": 202
        },
        "id": "UoksoEsODgWi",
        "outputId": "20be7ae9-cabd-4f52-d561-36bc95fa256d"
      },
      "source": [
        "news_df.drop('headline_category', axis=1, inplace=True)\n",
        "news_df['publish_date'] = pd.to_datetime(news_df['publish_date'], format='%Y%m%d')\n",
        "news_df.head()"
      ],
      "execution_count": 110,
      "outputs": [
        {
          "output_type": "execute_result",
          "data": {
            "text/html": [
              "<div>\n",
              "<style scoped>\n",
              "    .dataframe tbody tr th:only-of-type {\n",
              "        vertical-align: middle;\n",
              "    }\n",
              "\n",
              "    .dataframe tbody tr th {\n",
              "        vertical-align: top;\n",
              "    }\n",
              "\n",
              "    .dataframe thead th {\n",
              "        text-align: right;\n",
              "    }\n",
              "</style>\n",
              "<table border=\"1\" class=\"dataframe\">\n",
              "  <thead>\n",
              "    <tr style=\"text-align: right;\">\n",
              "      <th></th>\n",
              "      <th>publish_date</th>\n",
              "      <th>headline_text</th>\n",
              "    </tr>\n",
              "  </thead>\n",
              "  <tbody>\n",
              "    <tr>\n",
              "      <th>0</th>\n",
              "      <td>2001-01-02</td>\n",
              "      <td>Status quo will not be disturbed at Ayodhya; s...</td>\n",
              "    </tr>\n",
              "    <tr>\n",
              "      <th>1</th>\n",
              "      <td>2001-01-02</td>\n",
              "      <td>Fissures in Hurriyat over Pak visit</td>\n",
              "    </tr>\n",
              "    <tr>\n",
              "      <th>2</th>\n",
              "      <td>2001-01-02</td>\n",
              "      <td>America's unwanted heading for India?</td>\n",
              "    </tr>\n",
              "    <tr>\n",
              "      <th>3</th>\n",
              "      <td>2001-01-02</td>\n",
              "      <td>For bigwigs; it is destination Goa</td>\n",
              "    </tr>\n",
              "    <tr>\n",
              "      <th>4</th>\n",
              "      <td>2001-01-02</td>\n",
              "      <td>Extra buses to clear tourist traffic</td>\n",
              "    </tr>\n",
              "  </tbody>\n",
              "</table>\n",
              "</div>"
            ],
            "text/plain": [
              "  publish_date                                      headline_text\n",
              "0   2001-01-02  Status quo will not be disturbed at Ayodhya; s...\n",
              "1   2001-01-02                Fissures in Hurriyat over Pak visit\n",
              "2   2001-01-02              America's unwanted heading for India?\n",
              "3   2001-01-02                 For bigwigs; it is destination Goa\n",
              "4   2001-01-02               Extra buses to clear tourist traffic"
            ]
          },
          "metadata": {
            "tags": []
          },
          "execution_count": 110
        }
      ]
    },
    {
      "cell_type": "code",
      "metadata": {
        "colab": {
          "base_uri": "https://localhost:8080/",
          "height": 202
        },
        "id": "ufoL96bhDkdD",
        "outputId": "c64da723-58d2-4ba4-d5af-1f3e99c3ecb6"
      },
      "source": [
        "news_df.rename(columns={'publish_date': 'Date'}, inplace = True)\n",
        "\n",
        "news_df = news_df.drop_duplicates()\n",
        "news_df.reset_index(inplace=True, drop=True)\n",
        "news_df.head()"
      ],
      "execution_count": 111,
      "outputs": [
        {
          "output_type": "execute_result",
          "data": {
            "text/html": [
              "<div>\n",
              "<style scoped>\n",
              "    .dataframe tbody tr th:only-of-type {\n",
              "        vertical-align: middle;\n",
              "    }\n",
              "\n",
              "    .dataframe tbody tr th {\n",
              "        vertical-align: top;\n",
              "    }\n",
              "\n",
              "    .dataframe thead th {\n",
              "        text-align: right;\n",
              "    }\n",
              "</style>\n",
              "<table border=\"1\" class=\"dataframe\">\n",
              "  <thead>\n",
              "    <tr style=\"text-align: right;\">\n",
              "      <th></th>\n",
              "      <th>Date</th>\n",
              "      <th>headline_text</th>\n",
              "    </tr>\n",
              "  </thead>\n",
              "  <tbody>\n",
              "    <tr>\n",
              "      <th>0</th>\n",
              "      <td>2001-01-02</td>\n",
              "      <td>Status quo will not be disturbed at Ayodhya; s...</td>\n",
              "    </tr>\n",
              "    <tr>\n",
              "      <th>1</th>\n",
              "      <td>2001-01-02</td>\n",
              "      <td>Fissures in Hurriyat over Pak visit</td>\n",
              "    </tr>\n",
              "    <tr>\n",
              "      <th>2</th>\n",
              "      <td>2001-01-02</td>\n",
              "      <td>America's unwanted heading for India?</td>\n",
              "    </tr>\n",
              "    <tr>\n",
              "      <th>3</th>\n",
              "      <td>2001-01-02</td>\n",
              "      <td>For bigwigs; it is destination Goa</td>\n",
              "    </tr>\n",
              "    <tr>\n",
              "      <th>4</th>\n",
              "      <td>2001-01-02</td>\n",
              "      <td>Extra buses to clear tourist traffic</td>\n",
              "    </tr>\n",
              "  </tbody>\n",
              "</table>\n",
              "</div>"
            ],
            "text/plain": [
              "        Date                                      headline_text\n",
              "0 2001-01-02  Status quo will not be disturbed at Ayodhya; s...\n",
              "1 2001-01-02                Fissures in Hurriyat over Pak visit\n",
              "2 2001-01-02              America's unwanted heading for India?\n",
              "3 2001-01-02                 For bigwigs; it is destination Goa\n",
              "4 2001-01-02               Extra buses to clear tourist traffic"
            ]
          },
          "metadata": {
            "tags": []
          },
          "execution_count": 111
        }
      ]
    },
    {
      "cell_type": "markdown",
      "metadata": {
        "id": "VIxJBAPkQfog"
      },
      "source": [
        "Importing TextBlob:"
      ]
    },
    {
      "cell_type": "code",
      "metadata": {
        "id": "IDuBU61uDqMS",
        "colab": {
          "base_uri": "https://localhost:8080/",
          "height": 202
        },
        "outputId": "f942f737-b60a-4d30-d1f4-b09fa13c78a6"
      },
      "source": [
        "from textblob import TextBlob\n",
        "\n",
        "def getSubjectivity(text):\n",
        "    return TextBlob(text).sentiment.subjectivity\n",
        "\n",
        "def getPolarity(text):\n",
        "    return TextBlob(text).sentiment.polarity\n",
        "\n",
        "news_df['Subjectivity'] = news_df['headline_text'].apply(getSubjectivity)\n",
        "news_df['Polarity'] = news_df['headline_text'].apply(getPolarity)\n",
        "news_df.head()"
      ],
      "execution_count": 112,
      "outputs": [
        {
          "output_type": "execute_result",
          "data": {
            "text/html": [
              "<div>\n",
              "<style scoped>\n",
              "    .dataframe tbody tr th:only-of-type {\n",
              "        vertical-align: middle;\n",
              "    }\n",
              "\n",
              "    .dataframe tbody tr th {\n",
              "        vertical-align: top;\n",
              "    }\n",
              "\n",
              "    .dataframe thead th {\n",
              "        text-align: right;\n",
              "    }\n",
              "</style>\n",
              "<table border=\"1\" class=\"dataframe\">\n",
              "  <thead>\n",
              "    <tr style=\"text-align: right;\">\n",
              "      <th></th>\n",
              "      <th>Date</th>\n",
              "      <th>headline_text</th>\n",
              "      <th>Subjectivity</th>\n",
              "      <th>Polarity</th>\n",
              "    </tr>\n",
              "  </thead>\n",
              "  <tbody>\n",
              "    <tr>\n",
              "      <th>0</th>\n",
              "      <td>2001-01-02</td>\n",
              "      <td>Status quo will not be disturbed at Ayodhya; s...</td>\n",
              "      <td>0.000000</td>\n",
              "      <td>0.00</td>\n",
              "    </tr>\n",
              "    <tr>\n",
              "      <th>1</th>\n",
              "      <td>2001-01-02</td>\n",
              "      <td>Fissures in Hurriyat over Pak visit</td>\n",
              "      <td>0.000000</td>\n",
              "      <td>0.00</td>\n",
              "    </tr>\n",
              "    <tr>\n",
              "      <th>2</th>\n",
              "      <td>2001-01-02</td>\n",
              "      <td>America's unwanted heading for India?</td>\n",
              "      <td>0.000000</td>\n",
              "      <td>0.00</td>\n",
              "    </tr>\n",
              "    <tr>\n",
              "      <th>3</th>\n",
              "      <td>2001-01-02</td>\n",
              "      <td>For bigwigs; it is destination Goa</td>\n",
              "      <td>0.000000</td>\n",
              "      <td>0.00</td>\n",
              "    </tr>\n",
              "    <tr>\n",
              "      <th>4</th>\n",
              "      <td>2001-01-02</td>\n",
              "      <td>Extra buses to clear tourist traffic</td>\n",
              "      <td>0.241667</td>\n",
              "      <td>0.05</td>\n",
              "    </tr>\n",
              "  </tbody>\n",
              "</table>\n",
              "</div>"
            ],
            "text/plain": [
              "        Date  ... Polarity\n",
              "0 2001-01-02  ...     0.00\n",
              "1 2001-01-02  ...     0.00\n",
              "2 2001-01-02  ...     0.00\n",
              "3 2001-01-02  ...     0.00\n",
              "4 2001-01-02  ...     0.05\n",
              "\n",
              "[5 rows x 4 columns]"
            ]
          },
          "metadata": {
            "tags": []
          },
          "execution_count": 112
        }
      ]
    },
    {
      "cell_type": "code",
      "metadata": {
        "id": "PtEvriBtDuj6",
        "colab": {
          "base_uri": "https://localhost:8080/",
          "height": 276
        },
        "outputId": "3e060bcb-f688-425d-d0a5-af9e957f5d3c"
      },
      "source": [
        "plt.figure(figsize = (8,4))\n",
        "news_df['Subjectivity'].hist()\n",
        "plt.show()"
      ],
      "execution_count": 113,
      "outputs": [
        {
          "output_type": "display_data",
          "data": {
            "image/png": "[encoded data removed]",
            "text/plain": [
              "<Figure size 576x288 with 1 Axes>"
            ]
          },
          "metadata": {
            "tags": [],
            "needs_background": "light"
          }
        }
      ]
    },
    {
      "cell_type": "code",
      "metadata": {
        "id": "McnAX-1DGAm4",
        "colab": {
          "base_uri": "https://localhost:8080/",
          "height": 276
        },
        "outputId": "2ae85cd5-9076-404d-a53f-39906de8f379"
      },
      "source": [
        "plt.figure(figsize = (8,4))\n",
        "news_df['Polarity'].hist()\n",
        "plt.show()"
      ],
      "execution_count": 114,
      "outputs": [
        {
          "output_type": "display_data",
          "data": {
            "image/png": "[encoded data removed]",
            "text/plain": [
              "<Figure size 576x288 with 1 Axes>"
            ]
          },
          "metadata": {
            "tags": [],
            "needs_background": "light"
          }
        }
      ]
    },
    {
      "cell_type": "markdown",
      "metadata": {
        "id": "X6WtVhhOQl23"
      },
      "source": [
        "SentimentIntensity Analyzer:"
      ]
    },
    {
      "cell_type": "code",
      "metadata": {
        "id": "D1qLm_MPJd2g",
        "colab": {
          "base_uri": "https://localhost:8080/"
        },
        "outputId": "6be60a6a-c25a-40f2-829e-d216d72dddd9"
      },
      "source": [
        "pip install vaderSentiment"
      ],
      "execution_count": 115,
      "outputs": [
        {
          "output_type": "stream",
          "text": [
            "Collecting vaderSentiment\n",
            "\u001b[?25l  Downloading https://files.pythonhosted.org/packages/76/fc/310e16254683c1ed35eeb97386986d6c00bc29df17ce280aed64d55537e9/vaderSentiment-3.3.2-py2.py3-none-any.whl (125kB)\n",
            "\r\u001b[K     |██▋                             | 10kB 15.6MB/s eta 0:00:01\r\u001b[K     |█████▏                          | 20kB 12.2MB/s eta 0:00:01\r\u001b[K     |███████▉                        | 30kB 8.8MB/s eta 0:00:01\r\u001b[K     |██████████▍                     | 40kB 7.6MB/s eta 0:00:01\r\u001b[K     |█████████████                   | 51kB 4.4MB/s eta 0:00:01\r\u001b[K     |███████████████▋                | 61kB 4.9MB/s eta 0:00:01\r\u001b[K     |██████████████████▏             | 71kB 4.9MB/s eta 0:00:01\r\u001b[K     |████████████████████▉           | 81kB 5.1MB/s eta 0:00:01\r\u001b[K     |███████████████████████▍        | 92kB 5.6MB/s eta 0:00:01\r\u001b[K     |██████████████████████████      | 102kB 5.8MB/s eta 0:00:01\r\u001b[K     |████████████████████████████▋   | 112kB 5.8MB/s eta 0:00:01\r\u001b[K     |███████████████████████████████▏| 122kB 5.8MB/s eta 0:00:01\r\u001b[K     |████████████████████████████████| 133kB 5.8MB/s \n",
            "\u001b[?25hRequirement already satisfied: requests in /usr/local/lib/python3.7/dist-packages (from vaderSentiment) (2.23.0)\n",
            "Requirement already satisfied: chardet<4,>=3.0.2 in /usr/local/lib/python3.7/dist-packages (from requests->vaderSentiment) (3.0.4)\n",
            "Requirement already satisfied: idna<3,>=2.5 in /usr/local/lib/python3.7/dist-packages (from requests->vaderSentiment) (2.10)\n",
            "Requirement already satisfied: urllib3!=1.25.0,!=1.25.1,<1.26,>=1.21.1 in /usr/local/lib/python3.7/dist-packages (from requests->vaderSentiment) (1.24.3)\n",
            "Requirement already satisfied: certifi>=2017.4.17 in /usr/local/lib/python3.7/dist-packages (from requests->vaderSentiment) (2020.12.5)\n",
            "Installing collected packages: vaderSentiment\n",
            "Successfully installed vaderSentiment-3.3.2\n"
          ],
          "name": "stdout"
        }
      ]
    },
    {
      "cell_type": "code",
      "metadata": {
        "colab": {
          "base_uri": "https://localhost:8080/",
          "height": 202
        },
        "id": "8mwgfAqqJwyb",
        "outputId": "0ca6ff0b-ecb7-4c76-daf5-d97648463639"
      },
      "source": [
        "from vaderSentiment.vaderSentiment import SentimentIntensityAnalyzer \n",
        "\n",
        "senti_ana = SentimentIntensityAnalyzer()\n",
        "\n",
        "news_df['compound'] = [senti_ana.polarity_scores(i)['compound'] for i in news_df['headline_text']]\n",
        "news_df['Negative'] = [senti_ana.polarity_scores(i)['neg'] for i in news_df['headline_text']]\n",
        "news_df['Neutral'] = [senti_ana.polarity_scores(i)['neu'] for i in news_df['headline_text']]\n",
        "news_df['Positive'] = [senti_ana.polarity_scores(i)['pos'] for i in news_df['headline_text']]\n",
        "\n",
        "news_df.head()"
      ],
      "execution_count": 116,
      "outputs": [
        {
          "output_type": "execute_result",
          "data": {
            "text/html": [
              "<div>\n",
              "<style scoped>\n",
              "    .dataframe tbody tr th:only-of-type {\n",
              "        vertical-align: middle;\n",
              "    }\n",
              "\n",
              "    .dataframe tbody tr th {\n",
              "        vertical-align: top;\n",
              "    }\n",
              "\n",
              "    .dataframe thead th {\n",
              "        text-align: right;\n",
              "    }\n",
              "</style>\n",
              "<table border=\"1\" class=\"dataframe\">\n",
              "  <thead>\n",
              "    <tr style=\"text-align: right;\">\n",
              "      <th></th>\n",
              "      <th>Date</th>\n",
              "      <th>headline_text</th>\n",
              "      <th>Subjectivity</th>\n",
              "      <th>Polarity</th>\n",
              "      <th>compound</th>\n",
              "      <th>Negative</th>\n",
              "      <th>Neutral</th>\n",
              "      <th>Positive</th>\n",
              "    </tr>\n",
              "  </thead>\n",
              "  <tbody>\n",
              "    <tr>\n",
              "      <th>0</th>\n",
              "      <td>2001-01-02</td>\n",
              "      <td>Status quo will not be disturbed at Ayodhya; s...</td>\n",
              "      <td>0.000000</td>\n",
              "      <td>0.00</td>\n",
              "      <td>0.2924</td>\n",
              "      <td>0.000</td>\n",
              "      <td>0.805</td>\n",
              "      <td>0.195</td>\n",
              "    </tr>\n",
              "    <tr>\n",
              "      <th>1</th>\n",
              "      <td>2001-01-02</td>\n",
              "      <td>Fissures in Hurriyat over Pak visit</td>\n",
              "      <td>0.000000</td>\n",
              "      <td>0.00</td>\n",
              "      <td>0.0000</td>\n",
              "      <td>0.000</td>\n",
              "      <td>1.000</td>\n",
              "      <td>0.000</td>\n",
              "    </tr>\n",
              "    <tr>\n",
              "      <th>2</th>\n",
              "      <td>2001-01-02</td>\n",
              "      <td>America's unwanted heading for India?</td>\n",
              "      <td>0.000000</td>\n",
              "      <td>0.00</td>\n",
              "      <td>-0.2263</td>\n",
              "      <td>0.322</td>\n",
              "      <td>0.678</td>\n",
              "      <td>0.000</td>\n",
              "    </tr>\n",
              "    <tr>\n",
              "      <th>3</th>\n",
              "      <td>2001-01-02</td>\n",
              "      <td>For bigwigs; it is destination Goa</td>\n",
              "      <td>0.000000</td>\n",
              "      <td>0.00</td>\n",
              "      <td>0.0000</td>\n",
              "      <td>0.000</td>\n",
              "      <td>1.000</td>\n",
              "      <td>0.000</td>\n",
              "    </tr>\n",
              "    <tr>\n",
              "      <th>4</th>\n",
              "      <td>2001-01-02</td>\n",
              "      <td>Extra buses to clear tourist traffic</td>\n",
              "      <td>0.241667</td>\n",
              "      <td>0.05</td>\n",
              "      <td>0.3818</td>\n",
              "      <td>0.000</td>\n",
              "      <td>0.658</td>\n",
              "      <td>0.342</td>\n",
              "    </tr>\n",
              "  </tbody>\n",
              "</table>\n",
              "</div>"
            ],
            "text/plain": [
              "        Date  ... Positive\n",
              "0 2001-01-02  ...    0.195\n",
              "1 2001-01-02  ...    0.000\n",
              "2 2001-01-02  ...    0.000\n",
              "3 2001-01-02  ...    0.000\n",
              "4 2001-01-02  ...    0.342\n",
              "\n",
              "[5 rows x 8 columns]"
            ]
          },
          "metadata": {
            "tags": []
          },
          "execution_count": 116
        }
      ]
    }
  ]
}