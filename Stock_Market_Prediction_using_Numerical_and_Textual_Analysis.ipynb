{
  "nbformat": 4,
  "nbformat_minor": 0,
  "metadata": {
    "colab": {
      "name": "Stock Market Prediction using Numerical and Textual Analysis.ipynb",
      "provenance": []
    },
    "kernelspec": {
      "name": "python3",
      "display_name": "Python 3"
    },
    "language_info": {
      "name": "python"
    }
  },
  "cells": [
    {
      "cell_type": "markdown",
      "metadata": {
        "id": "OG9DYUduOgCH"
      },
      "source": [
        "Importing Libraries:"
      ]
    },
    {
      "cell_type": "code",
      "metadata": {
        "id": "Gdcb3D0wBOSk"
      },
      "source": [
        "import pandas as pd\n",
        "import numpy as np  \n",
        "import matplotlib.pyplot as plt  \n",
        "%matplotlib inline\n",
        "import seaborn as sns"
      ],
      "execution_count": 117,
      "outputs": []
    },
    {
      "cell_type": "markdown",
      "metadata": {
        "id": "gJWKOEnsOk6S"
      },
      "source": [
        "Reading and Checking Data of Stock Dataset:"
      ]
    },
    {
      "cell_type": "code",
      "metadata": {
        "colab": {
          "base_uri": "https://localhost:8080/",
          "height": 202
        },
        "id": "V6OBZMkDBQ1Q",
        "outputId": "59bfcf6c-6a34-4c28-e0d8-f756e5091f2d"
      },
      "source": [
        "data = pd.read_csv(\"GC=F.csv\")\n",
        "data.head()"
      ],
      "execution_count": 118,
      "outputs": [
        {
          "output_type": "execute_result",
          "data": {
            "text/html": [
              "<div>\n",
              "<style scoped>\n",
              "    .dataframe tbody tr th:only-of-type {\n",
              "        vertical-align: middle;\n",
              "    }\n",
              "\n",
              "    .dataframe tbody tr th {\n",
              "        vertical-align: top;\n",
              "    }\n",
              "\n",
              "    .dataframe thead th {\n",
              "        text-align: right;\n",
              "    }\n",
              "</style>\n",
              "<table border=\"1\" class=\"dataframe\">\n",
              "  <thead>\n",
              "    <tr style=\"text-align: right;\">\n",
              "      <th></th>\n",
              "      <th>Date</th>\n",
              "      <th>Open</th>\n",
              "      <th>High</th>\n",
              "      <th>Low</th>\n",
              "      <th>Close</th>\n",
              "      <th>Adj Close</th>\n",
              "      <th>Volume</th>\n",
              "    </tr>\n",
              "  </thead>\n",
              "  <tbody>\n",
              "    <tr>\n",
              "      <th>0</th>\n",
              "      <td>2020-04-16</td>\n",
              "      <td>1731.000000</td>\n",
              "      <td>1750.599976</td>\n",
              "      <td>1715.000000</td>\n",
              "      <td>1720.400024</td>\n",
              "      <td>1720.400024</td>\n",
              "      <td>162.0</td>\n",
              "    </tr>\n",
              "    <tr>\n",
              "      <th>1</th>\n",
              "      <td>2020-04-17</td>\n",
              "      <td>1715.699951</td>\n",
              "      <td>1725.000000</td>\n",
              "      <td>1684.900024</td>\n",
              "      <td>1689.199951</td>\n",
              "      <td>1689.199951</td>\n",
              "      <td>223.0</td>\n",
              "    </tr>\n",
              "    <tr>\n",
              "      <th>2</th>\n",
              "      <td>2020-04-20</td>\n",
              "      <td>1686.000000</td>\n",
              "      <td>1701.599976</td>\n",
              "      <td>1680.000000</td>\n",
              "      <td>1701.599976</td>\n",
              "      <td>1701.599976</td>\n",
              "      <td>106.0</td>\n",
              "    </tr>\n",
              "    <tr>\n",
              "      <th>3</th>\n",
              "      <td>2020-04-21</td>\n",
              "      <td>1697.000000</td>\n",
              "      <td>1707.099976</td>\n",
              "      <td>1659.900024</td>\n",
              "      <td>1678.199951</td>\n",
              "      <td>1678.199951</td>\n",
              "      <td>666.0</td>\n",
              "    </tr>\n",
              "    <tr>\n",
              "      <th>4</th>\n",
              "      <td>2020-04-22</td>\n",
              "      <td>1696.000000</td>\n",
              "      <td>1728.699951</td>\n",
              "      <td>1684.800049</td>\n",
              "      <td>1728.699951</td>\n",
              "      <td>1728.699951</td>\n",
              "      <td>453.0</td>\n",
              "    </tr>\n",
              "  </tbody>\n",
              "</table>\n",
              "</div>"
            ],
            "text/plain": [
              "         Date         Open         High  ...        Close    Adj Close  Volume\n",
              "0  2020-04-16  1731.000000  1750.599976  ...  1720.400024  1720.400024   162.0\n",
              "1  2020-04-17  1715.699951  1725.000000  ...  1689.199951  1689.199951   223.0\n",
              "2  2020-04-20  1686.000000  1701.599976  ...  1701.599976  1701.599976   106.0\n",
              "3  2020-04-21  1697.000000  1707.099976  ...  1678.199951  1678.199951   666.0\n",
              "4  2020-04-22  1696.000000  1728.699951  ...  1728.699951  1728.699951   453.0\n",
              "\n",
              "[5 rows x 7 columns]"
            ]
          },
          "metadata": {
            "tags": []
          },
          "execution_count": 118
        }
      ]
    },
    {
      "cell_type": "code",
      "metadata": {
        "colab": {
          "base_uri": "https://localhost:8080/"
        },
        "id": "6O_97RuxBVZf",
        "outputId": "4df37cd6-0746-463c-fcf6-a17807e442c8"
      },
      "source": [
        "data.shape"
      ],
      "execution_count": 119,
      "outputs": [
        {
          "output_type": "execute_result",
          "data": {
            "text/plain": [
              "(253, 7)"
            ]
          },
          "metadata": {
            "tags": []
          },
          "execution_count": 119
        }
      ]
    },
    {
      "cell_type": "code",
      "metadata": {
        "colab": {
          "base_uri": "https://localhost:8080/"
        },
        "id": "7KJStB5ABh94",
        "outputId": "b2e7cf3b-1b91-4613-e937-7dc84fbc381b"
      },
      "source": [
        "data.info()"
      ],
      "execution_count": 120,
      "outputs": [
        {
          "output_type": "stream",
          "text": [
            "<class 'pandas.core.frame.DataFrame'>\n",
            "RangeIndex: 253 entries, 0 to 252\n",
            "Data columns (total 7 columns):\n",
            " #   Column     Non-Null Count  Dtype  \n",
            "---  ------     --------------  -----  \n",
            " 0   Date       253 non-null    object \n",
            " 1   Open       251 non-null    float64\n",
            " 2   High       251 non-null    float64\n",
            " 3   Low        251 non-null    float64\n",
            " 4   Close      251 non-null    float64\n",
            " 5   Adj Close  251 non-null    float64\n",
            " 6   Volume     251 non-null    float64\n",
            "dtypes: float64(6), object(1)\n",
            "memory usage: 14.0+ KB\n"
          ],
          "name": "stdout"
        }
      ]
    },
    {
      "cell_type": "code",
      "metadata": {
        "colab": {
          "base_uri": "https://localhost:8080/"
        },
        "id": "O6acggw_BkFi",
        "outputId": "8cc50945-99cf-4601-f52c-9c2bb6265e26"
      },
      "source": [
        "data.nunique()"
      ],
      "execution_count": 121,
      "outputs": [
        {
          "output_type": "execute_result",
          "data": {
            "text/plain": [
              "Date         253\n",
              "Open         243\n",
              "High         239\n",
              "Low          240\n",
              "Close        241\n",
              "Adj Close    241\n",
              "Volume       221\n",
              "dtype: int64"
            ]
          },
          "metadata": {
            "tags": []
          },
          "execution_count": 121
        }
      ]
    },
    {
      "cell_type": "code",
      "metadata": {
        "colab": {
          "base_uri": "https://localhost:8080/"
        },
        "id": "dlobzkcABnKU",
        "outputId": "d2737e6b-b88e-4c14-eb96-51e13ca247ec"
      },
      "source": [
        "list_columns = data.columns\n",
        "list_columns"
      ],
      "execution_count": 122,
      "outputs": [
        {
          "output_type": "execute_result",
          "data": {
            "text/plain": [
              "Index(['Date', 'Open', 'High', 'Low', 'Close', 'Adj Close', 'Volume'], dtype='object')"
            ]
          },
          "metadata": {
            "tags": []
          },
          "execution_count": 122
        }
      ]
    },
    {
      "cell_type": "code",
      "metadata": {
        "colab": {
          "base_uri": "https://localhost:8080/",
          "height": 294
        },
        "id": "OuGQ1X7lBpfD",
        "outputId": "527e1773-c91f-4b58-a1da-7f4acd7cedf6"
      },
      "source": [
        "data.describe()"
      ],
      "execution_count": 123,
      "outputs": [
        {
          "output_type": "execute_result",
          "data": {
            "text/html": [
              "<div>\n",
              "<style scoped>\n",
              "    .dataframe tbody tr th:only-of-type {\n",
              "        vertical-align: middle;\n",
              "    }\n",
              "\n",
              "    .dataframe tbody tr th {\n",
              "        vertical-align: top;\n",
              "    }\n",
              "\n",
              "    .dataframe thead th {\n",
              "        text-align: right;\n",
              "    }\n",
              "</style>\n",
              "<table border=\"1\" class=\"dataframe\">\n",
              "  <thead>\n",
              "    <tr style=\"text-align: right;\">\n",
              "      <th></th>\n",
              "      <th>Open</th>\n",
              "      <th>High</th>\n",
              "      <th>Low</th>\n",
              "      <th>Close</th>\n",
              "      <th>Adj Close</th>\n",
              "      <th>Volume</th>\n",
              "    </tr>\n",
              "  </thead>\n",
              "  <tbody>\n",
              "    <tr>\n",
              "      <th>count</th>\n",
              "      <td>251.000000</td>\n",
              "      <td>251.000000</td>\n",
              "      <td>251.000000</td>\n",
              "      <td>251.000000</td>\n",
              "      <td>251.000000</td>\n",
              "      <td>251.000000</td>\n",
              "    </tr>\n",
              "    <tr>\n",
              "      <th>mean</th>\n",
              "      <td>1826.641437</td>\n",
              "      <td>1837.254984</td>\n",
              "      <td>1815.535458</td>\n",
              "      <td>1826.500796</td>\n",
              "      <td>1826.500796</td>\n",
              "      <td>4535.438247</td>\n",
              "    </tr>\n",
              "    <tr>\n",
              "      <th>std</th>\n",
              "      <td>89.594132</td>\n",
              "      <td>90.503903</td>\n",
              "      <td>88.512745</td>\n",
              "      <td>89.368382</td>\n",
              "      <td>89.368382</td>\n",
              "      <td>25295.057737</td>\n",
              "    </tr>\n",
              "    <tr>\n",
              "      <th>min</th>\n",
              "      <td>1679.099976</td>\n",
              "      <td>1699.400024</td>\n",
              "      <td>1659.900024</td>\n",
              "      <td>1676.199951</td>\n",
              "      <td>1676.199951</td>\n",
              "      <td>4.000000</td>\n",
              "    </tr>\n",
              "    <tr>\n",
              "      <th>25%</th>\n",
              "      <td>1737.500000</td>\n",
              "      <td>1745.700012</td>\n",
              "      <td>1726.299988</td>\n",
              "      <td>1733.950012</td>\n",
              "      <td>1733.950012</td>\n",
              "      <td>137.000000</td>\n",
              "    </tr>\n",
              "    <tr>\n",
              "      <th>50%</th>\n",
              "      <td>1834.800049</td>\n",
              "      <td>1843.300049</td>\n",
              "      <td>1826.500000</td>\n",
              "      <td>1834.599976</td>\n",
              "      <td>1834.599976</td>\n",
              "      <td>329.000000</td>\n",
              "    </tr>\n",
              "    <tr>\n",
              "      <th>75%</th>\n",
              "      <td>1896.250000</td>\n",
              "      <td>1908.000000</td>\n",
              "      <td>1884.400024</td>\n",
              "      <td>1899.399964</td>\n",
              "      <td>1899.399964</td>\n",
              "      <td>766.500000</td>\n",
              "    </tr>\n",
              "    <tr>\n",
              "      <th>max</th>\n",
              "      <td>2045.500000</td>\n",
              "      <td>2063.000000</td>\n",
              "      <td>2040.000000</td>\n",
              "      <td>2051.500000</td>\n",
              "      <td>2051.500000</td>\n",
              "      <td>209835.000000</td>\n",
              "    </tr>\n",
              "  </tbody>\n",
              "</table>\n",
              "</div>"
            ],
            "text/plain": [
              "              Open         High  ...    Adj Close         Volume\n",
              "count   251.000000   251.000000  ...   251.000000     251.000000\n",
              "mean   1826.641437  1837.254984  ...  1826.500796    4535.438247\n",
              "std      89.594132    90.503903  ...    89.368382   25295.057737\n",
              "min    1679.099976  1699.400024  ...  1676.199951       4.000000\n",
              "25%    1737.500000  1745.700012  ...  1733.950012     137.000000\n",
              "50%    1834.800049  1843.300049  ...  1834.599976     329.000000\n",
              "75%    1896.250000  1908.000000  ...  1899.399964     766.500000\n",
              "max    2045.500000  2063.000000  ...  2051.500000  209835.000000\n",
              "\n",
              "[8 rows x 6 columns]"
            ]
          },
          "metadata": {
            "tags": []
          },
          "execution_count": 123
        }
      ]
    },
    {
      "cell_type": "code",
      "metadata": {
        "id": "cX1sToklOuYf"
      },
      "source": [
        "Heatmap using Statistical Information of the dataframe:"
      ],
      "execution_count": null,
      "outputs": []
    },
    {
      "cell_type": "code",
      "metadata": {
        "colab": {
          "base_uri": "https://localhost:8080/",
          "height": 303
        },
        "id": "bZFNpyTGBsKR",
        "outputId": "acef69a1-c69b-4671-d712-b44c62f1c7a2"
      },
      "source": [
        "plt.figure(figsize=(8,4))\n",
        "sns.heatmap(data.describe(), annot = True, fmt = '.2f', cmap = 'rainbow')\n",
        "plt.xticks(fontsize = 12)\n",
        "plt.yticks(fontsize = 12)\n",
        "plt.title(\"Heatmap\", fontsize = 16)"
      ],
      "execution_count": 124,
      "outputs": [
        {
          "output_type": "execute_result",
          "data": {
            "text/plain": [
              "Text(0.5, 1.0, 'Heatmap')"
            ]
          },
          "metadata": {
            "tags": []
          },
          "execution_count": 124
        },
        {
          "output_type": "display_data",
          "data": {
            "image/png": "[encoded data removed]",
            "text/plain": [
              "<Figure size 576x288 with 2 Axes>"
            ]
          },
          "metadata": {
            "tags": [],
            "needs_background": "light"
          }
        }
      ]
    },
    {
      "cell_type": "code",
      "metadata": {
        "colab": {
          "base_uri": "https://localhost:8080/"
        },
        "id": "rzMTy3BfBvo_",
        "outputId": "9af7685e-ffe8-416a-f9b4-eca5b7df115f"
      },
      "source": [
        "data.isnull().sum()"
      ],
      "execution_count": 125,
      "outputs": [
        {
          "output_type": "execute_result",
          "data": {
            "text/plain": [
              "Date         0\n",
              "Open         2\n",
              "High         2\n",
              "Low          2\n",
              "Close        2\n",
              "Adj Close    2\n",
              "Volume       2\n",
              "dtype: int64"
            ]
          },
          "metadata": {
            "tags": []
          },
          "execution_count": 125
        }
      ]
    },
    {
      "cell_type": "code",
      "metadata": {
        "id": "8oNXiAMFByWH"
      },
      "source": [
        "data.dropna(inplace=True)"
      ],
      "execution_count": 126,
      "outputs": []
    },
    {
      "cell_type": "code",
      "metadata": {
        "colab": {
          "base_uri": "https://localhost:8080/"
        },
        "id": "R2oYf5UdB0p5",
        "outputId": "e6065a6a-f0d4-437f-dd09-c14c0a350f4f"
      },
      "source": [
        "data.isnull().sum()"
      ],
      "execution_count": 127,
      "outputs": [
        {
          "output_type": "execute_result",
          "data": {
            "text/plain": [
              "Date         0\n",
              "Open         0\n",
              "High         0\n",
              "Low          0\n",
              "Close        0\n",
              "Adj Close    0\n",
              "Volume       0\n",
              "dtype: int64"
            ]
          },
          "metadata": {
            "tags": []
          },
          "execution_count": 127
        }
      ]
    },
    {
      "cell_type": "code",
      "metadata": {
        "colab": {
          "base_uri": "https://localhost:8080/"
        },
        "id": "OYPKuvEuB2vW",
        "outputId": "9fcce31e-e39b-488f-837c-0547e1df4224"
      },
      "source": [
        "data.dtypes"
      ],
      "execution_count": 128,
      "outputs": [
        {
          "output_type": "execute_result",
          "data": {
            "text/plain": [
              "Date          object\n",
              "Open         float64\n",
              "High         float64\n",
              "Low          float64\n",
              "Close        float64\n",
              "Adj Close    float64\n",
              "Volume       float64\n",
              "dtype: object"
            ]
          },
          "metadata": {
            "tags": []
          },
          "execution_count": 128
        }
      ]
    },
    {
      "cell_type": "code",
      "metadata": {
        "id": "r4M2qyiFB6Vu"
      },
      "source": [
        "data['Date'] = pd.to_datetime(data['Date'] ,format='%Y-%m-%d')\n",
        "data.index = data['Date']"
      ],
      "execution_count": 129,
      "outputs": []
    },
    {
      "cell_type": "markdown",
      "metadata": {
        "id": "TfsAUx9fO0l_"
      },
      "source": [
        "History of trading open price:"
      ]
    },
    {
      "cell_type": "code",
      "metadata": {
        "colab": {
          "base_uri": "https://localhost:8080/",
          "height": 301
        },
        "id": "V-5M2jqQB8u_",
        "outputId": "b8bd4a1d-ac14-489e-dc3d-c469135cd75b"
      },
      "source": [
        "plt.figure(figsize=(8,4))\n",
        "plt.plot(data['Date'], data['Open'])\n",
        "plt.title(\"Open Price History\", fontsize = 16)\n",
        "plt.xlabel(\"Date\", fontsize = 14)\n",
        "plt.ylabel(\"Price\", fontsize = 14)\n",
        "plt.show()"
      ],
      "execution_count": 130,
      "outputs": [
        {
          "output_type": "display_data",
          "data": {
            "image/png": "[encoded data removed]",
            "text/plain": [
              "<Figure size 576x288 with 1 Axes>"
            ]
          },
          "metadata": {
            "tags": [],
            "needs_background": "light"
          }
        }
      ]
    },
    {
      "cell_type": "markdown",
      "metadata": {
        "id": "rIv2hRsAO5Mc"
      },
      "source": [
        "History of trading close price:"
      ]
    },
    {
      "cell_type": "code",
      "metadata": {
        "colab": {
          "base_uri": "https://localhost:8080/",
          "height": 301
        },
        "id": "4ZmLbaPJCA0b",
        "outputId": "1f2f02d0-a144-4878-bc9b-6bbf620563d7"
      },
      "source": [
        "plt.figure(figsize=(8,4))\n",
        "plt.plot(data['Date'], data['Close'])\n",
        "plt.title(\"Close Price History\", fontsize = 16)\n",
        "plt.xlabel(\"Date\", fontsize = 14)\n",
        "plt.ylabel(\"Price\", fontsize = 14)\n",
        "plt.show()\n"
      ],
      "execution_count": 131,
      "outputs": [
        {
          "output_type": "display_data",
          "data": {
            "image/png": "[encoded data removed]",
            "text/plain": [
              "<Figure size 576x288 with 1 Axes>"
            ]
          },
          "metadata": {
            "tags": [],
            "needs_background": "light"
          }
        }
      ]
    },
    {
      "cell_type": "markdown",
      "metadata": {
        "id": "OqrI1F6AO-3Q"
      },
      "source": [
        "History of stock price growth:"
      ]
    },
    {
      "cell_type": "code",
      "metadata": {
        "colab": {
          "base_uri": "https://localhost:8080/",
          "height": 301
        },
        "id": "UCYGDSCnCFyI",
        "outputId": "88f61544-8466-4dff-beed-3609681d7414"
      },
      "source": [
        "plt.figure(figsize=(8,4))\n",
        "plt.plot(data['Date'], data['High'])\n",
        "plt.title(\"Stock Price Growth History\", fontsize = 16)\n",
        "plt.xlabel(\"Date\", fontsize = 14)\n",
        "plt.ylabel(\"Price\", fontsize = 14)\n",
        "plt.show()"
      ],
      "execution_count": 132,
      "outputs": [
        {
          "output_type": "display_data",
          "data": {
            "image/png": "[encoded data removed]",
            "text/plain": [
              "<Figure size 576x288 with 1 Axes>"
            ]
          },
          "metadata": {
            "tags": [],
            "needs_background": "light"
          }
        }
      ]
    },
    {
      "cell_type": "markdown",
      "metadata": {
        "id": "es3Nbg7aPDis"
      },
      "source": [
        "History of low stock price:"
      ]
    },
    {
      "cell_type": "code",
      "metadata": {
        "colab": {
          "base_uri": "https://localhost:8080/",
          "height": 301
        },
        "id": "gDQejk4wCI1c",
        "outputId": "0694b2ff-9a8b-42ad-d77f-aa2f6bcb3c5c"
      },
      "source": [
        "plt.figure(figsize=(8,4))\n",
        "plt.plot(data['Date'], data['Low'])\n",
        "plt.title(\"Stock Price lower History\", fontsize = 16)\n",
        "plt.xlabel(\"Date\", fontsize = 14)\n",
        "plt.ylabel(\"Price\", fontsize = 14)\n",
        "plt.show()"
      ],
      "execution_count": 133,
      "outputs": [
        {
          "output_type": "display_data",
          "data": {
            "image/png": "[encoded data removed]",
            "text/plain": [
              "<Figure size 576x288 with 1 Axes>"
            ]
          },
          "metadata": {
            "tags": [],
            "needs_background": "light"
          }
        }
      ]
    },
    {
      "cell_type": "markdown",
      "metadata": {
        "id": "svEakrEdPI8U"
      },
      "source": [
        "History of adjusted close stock price:"
      ]
    },
    {
      "cell_type": "code",
      "metadata": {
        "colab": {
          "base_uri": "https://localhost:8080/",
          "height": 301
        },
        "id": "2yAu-BC6CMKx",
        "outputId": "84b12b4b-217a-4c79-e17e-b79a2d1bc78f"
      },
      "source": [
        "plt.figure(figsize=(8,4))\n",
        "plt.plot(data['Date'], data['Adj Close'])\n",
        "plt.title(\"Stock Price of Adjusted Close\", fontsize = 16)\n",
        "plt.xlabel(\"Date\", fontsize = 14)\n",
        "plt.ylabel(\"Price\", fontsize = 14)\n",
        "plt.show()"
      ],
      "execution_count": 134,
      "outputs": [
        {
          "output_type": "display_data",
          "data": {
            "image/png": "[encoded data removed]",
            "text/plain": [
              "<Figure size 576x288 with 1 Axes>"
            ]
          },
          "metadata": {
            "tags": [],
            "needs_background": "light"
          }
        }
      ]
    },
    {
      "cell_type": "markdown",
      "metadata": {
        "id": "mb4TMf9SPXqZ"
      },
      "source": [
        "History of stock price volume:"
      ]
    },
    {
      "cell_type": "code",
      "metadata": {
        "colab": {
          "base_uri": "https://localhost:8080/",
          "height": 301
        },
        "id": "mmp4KP80CP09",
        "outputId": "925dccff-e20e-40c0-ac8b-839685a28f67"
      },
      "source": [
        "plt.figure(figsize=(8,4))\n",
        "plt.plot(data['Date'], data['Volume'])\n",
        "plt.title(\"Stock Price Volume\", fontsize = 16)\n",
        "plt.xlabel(\"Date\", fontsize = 14)\n",
        "plt.ylabel(\"Price\", fontsize = 14)\n",
        "plt.show()"
      ],
      "execution_count": 135,
      "outputs": [
        {
          "output_type": "display_data",
          "data": {
            "image/png": "[encoded data removed]",
            "text/plain": [
              "<Figure size 576x288 with 1 Axes>"
            ]
          },
          "metadata": {
            "tags": [],
            "needs_background": "light"
          }
        }
      ]
    },
    {
      "cell_type": "markdown",
      "metadata": {
        "id": "hqKW-nFLPc63"
      },
      "source": [
        "Stock market volume price Prediction:"
      ]
    },
    {
      "cell_type": "markdown",
      "metadata": {
        "id": "54oUDufZPg68"
      },
      "source": [
        "Assigning values for x and y:"
      ]
    },
    {
      "cell_type": "code",
      "metadata": {
        "id": "-mmoOkTgCS5m"
      },
      "source": [
        "x = data.iloc[:, 1:7].values\n",
        "y = data.iloc[:, -1].values\n"
      ],
      "execution_count": 136,
      "outputs": []
    },
    {
      "cell_type": "markdown",
      "metadata": {
        "id": "pfSJzwZUPm4M"
      },
      "source": [
        "Splitting the dataset using train_test_split:"
      ]
    },
    {
      "cell_type": "code",
      "metadata": {
        "id": "hR78eXFSCZ1b"
      },
      "source": [
        "from sklearn.model_selection import train_test_split\n",
        "\n",
        "x_train, x_test, y_train, y_test = train_test_split(x, y, test_size = 1/3, random_state = 0)"
      ],
      "execution_count": 137,
      "outputs": []
    },
    {
      "cell_type": "markdown",
      "metadata": {
        "id": "_USOqJN9PsaA"
      },
      "source": [
        "Standard Scale transform:"
      ]
    },
    {
      "cell_type": "code",
      "metadata": {
        "id": "WtjbpXqgCcoR"
      },
      "source": [
        "from sklearn.preprocessing import StandardScaler\n",
        "sc = StandardScaler()\n",
        "x_train = sc.fit_transform(x_train)\n",
        "x_test = sc.transform(x_test)"
      ],
      "execution_count": 138,
      "outputs": []
    },
    {
      "cell_type": "markdown",
      "metadata": {
        "id": "gMlPUPwcPw9m"
      },
      "source": [
        "Random Forest Regression model training on the Training set:"
      ]
    },
    {
      "cell_type": "code",
      "metadata": {
        "colab": {
          "base_uri": "https://localhost:8080/"
        },
        "id": "cmYITlchCeze",
        "outputId": "9ffe92c3-fee0-4f73-88a7-a8e5991bf44d"
      },
      "source": [
        "from sklearn.ensemble import RandomForestRegressor\n",
        "\n",
        "regressor = RandomForestRegressor(n_estimators = 10, random_state = 0)\n",
        "regressor.fit(x_train, y_train)\n",
        "\n",
        "print(\"The Random Forest Regression model trained\")"
      ],
      "execution_count": 139,
      "outputs": [
        {
          "output_type": "stream",
          "text": [
            "The Random Forest Regression model trained\n"
          ],
          "name": "stdout"
        }
      ]
    },
    {
      "cell_type": "code",
      "metadata": {
        "colab": {
          "base_uri": "https://localhost:8080/"
        },
        "id": "5SezFBsqCh9T",
        "outputId": "45522037-fd43-45a4-d17c-a942b5174d3c"
      },
      "source": [
        "y_pred = regressor.predict(x_test)\n",
        "y_pred"
      ],
      "execution_count": 140,
      "outputs": [
        {
          "output_type": "execute_result",
          "data": {
            "text/plain": [
              "array([1.695400e+03, 3.424000e+02, 2.902000e+02, 1.623400e+03,\n",
              "       9.000000e+00, 1.399100e+03, 5.540000e+01, 7.340000e+01,\n",
              "       1.510000e+02, 7.505000e+02, 1.025000e+03, 1.460000e+01,\n",
              "       4.140000e+01, 1.508000e+02, 6.010000e+02, 1.847620e+04,\n",
              "       1.838000e+02, 2.550000e+02, 1.260000e+02, 1.911000e+02,\n",
              "       3.003400e+03, 1.320600e+03, 2.346910e+04, 9.000000e+00,\n",
              "       1.286800e+03, 7.530000e+01, 1.282800e+03, 1.725000e+02,\n",
              "       4.769000e+02, 6.885000e+02, 5.540000e+01, 1.974300e+03,\n",
              "       3.306000e+02, 4.919000e+02, 2.608000e+02, 2.305000e+02,\n",
              "       1.129000e+02, 4.769000e+02, 2.283000e+02, 3.210000e+01,\n",
              "       5.256000e+02, 3.278000e+02, 6.860000e+01, 1.645000e+02,\n",
              "       1.856000e+02, 7.350000e+01, 1.597300e+03, 1.096000e+02,\n",
              "       2.030000e+01, 1.167000e+02, 8.091000e+02, 1.207600e+03,\n",
              "       3.306000e+02, 6.642000e+02, 2.281000e+02, 2.296000e+02,\n",
              "       4.930000e+01, 3.340000e+02, 2.365000e+02, 8.456000e+02,\n",
              "       4.800000e+00, 2.702200e+03, 1.680000e+02, 7.279000e+02,\n",
              "       1.200000e+02, 1.545541e+05, 2.723800e+03, 1.877000e+02,\n",
              "       1.895000e+02, 1.790000e+01, 2.751000e+02, 9.066000e+02,\n",
              "       2.768000e+02, 3.328000e+02, 6.122000e+02, 1.200000e+02,\n",
              "       1.290600e+03, 4.565000e+02, 5.031000e+02, 3.344000e+02,\n",
              "       8.900000e+01, 9.715000e+02, 1.183000e+02, 1.000000e+01])"
            ]
          },
          "metadata": {
            "tags": []
          },
          "execution_count": 140
        }
      ]
    },
    {
      "cell_type": "code",
      "metadata": {
        "id": "z_vV_pKEP5nL"
      },
      "source": [
        "Visualizing the Train Result:"
      ],
      "execution_count": null,
      "outputs": []
    },
    {
      "cell_type": "code",
      "metadata": {
        "colab": {
          "base_uri": "https://localhost:8080/",
          "height": 32
        },
        "id": "LR_fJSe-Cl_w",
        "outputId": "197a8756-0cc3-4d45-f57d-d11e78f2dc72"
      },
      "source": [
        "df = pd.DataFrame()\n",
        "df"
      ],
      "execution_count": 141,
      "outputs": [
        {
          "output_type": "execute_result",
          "data": {
            "text/html": [
              "<div>\n",
              "<style scoped>\n",
              "    .dataframe tbody tr th:only-of-type {\n",
              "        vertical-align: middle;\n",
              "    }\n",
              "\n",
              "    .dataframe tbody tr th {\n",
              "        vertical-align: top;\n",
              "    }\n",
              "\n",
              "    .dataframe thead th {\n",
              "        text-align: right;\n",
              "    }\n",
              "</style>\n",
              "<table border=\"1\" class=\"dataframe\">\n",
              "  <thead>\n",
              "    <tr style=\"text-align: right;\">\n",
              "      <th></th>\n",
              "    </tr>\n",
              "  </thead>\n",
              "  <tbody>\n",
              "  </tbody>\n",
              "</table>\n",
              "</div>"
            ],
            "text/plain": [
              "Empty DataFrame\n",
              "Columns: []\n",
              "Index: []"
            ]
          },
          "metadata": {
            "tags": []
          },
          "execution_count": 141
        }
      ]
    },
    {
      "cell_type": "code",
      "metadata": {
        "colab": {
          "base_uri": "https://localhost:8080/"
        },
        "id": "-K4VyPIxCpei",
        "outputId": "d4605b5d-84b0-4aa5-f88e-50a9cb03607f"
      },
      "source": [
        "Pred_x_train = regressor.predict(x_train)\n",
        "\n",
        "df['predict_train'] = Pred_x_train\n",
        "df['predict_train']"
      ],
      "execution_count": 142,
      "outputs": [
        {
          "output_type": "execute_result",
          "data": {
            "text/plain": [
              "0       52.0\n",
              "1      414.0\n",
              "2      335.2\n",
              "3      324.4\n",
              "4       77.5\n",
              "       ...  \n",
              "162    215.0\n",
              "163      6.4\n",
              "164    729.2\n",
              "165    666.1\n",
              "166    135.4\n",
              "Name: predict_train, Length: 167, dtype: float64"
            ]
          },
          "metadata": {
            "tags": []
          },
          "execution_count": 142
        }
      ]
    },
    {
      "cell_type": "code",
      "metadata": {
        "colab": {
          "base_uri": "https://localhost:8080/",
          "height": 301
        },
        "id": "rQKSaG4gCsfo",
        "outputId": "c330e9f5-1a52-4e20-a788-ca5cbf71039b"
      },
      "source": [
        "plt.figure(figsize=(8,4))\n",
        "plt.plot(df['predict_train'])\n",
        "plt.title(\"Stock Price Volume Train Result\", fontsize = 16)\n",
        "plt.xlabel(\"Date\", fontsize = 14)\n",
        "plt.ylabel(\"Price\", fontsize = 14)\n",
        "plt.show()"
      ],
      "execution_count": 143,
      "outputs": [
        {
          "output_type": "display_data",
          "data": {
            "image/png": "[encoded data removed]",
            "text/plain": [
              "<Figure size 576x288 with 1 Axes>"
            ]
          },
          "metadata": {
            "tags": [],
            "needs_background": "light"
          }
        }
      ]
    },
    {
      "cell_type": "markdown",
      "metadata": {
        "id": "jJmurN0fQAua"
      },
      "source": [
        "Visualizing the Test Result:"
      ]
    },
    {
      "cell_type": "code",
      "metadata": {
        "colab": {
          "base_uri": "https://localhost:8080/",
          "height": 32
        },
        "id": "SQ26Ir1oCyC_",
        "outputId": "d746b5ca-5177-4d0e-dc36-300393518b25"
      },
      "source": [
        "df1 = pd.DataFrame()\n",
        "df1"
      ],
      "execution_count": 144,
      "outputs": [
        {
          "output_type": "execute_result",
          "data": {
            "text/html": [
              "<div>\n",
              "<style scoped>\n",
              "    .dataframe tbody tr th:only-of-type {\n",
              "        vertical-align: middle;\n",
              "    }\n",
              "\n",
              "    .dataframe tbody tr th {\n",
              "        vertical-align: top;\n",
              "    }\n",
              "\n",
              "    .dataframe thead th {\n",
              "        text-align: right;\n",
              "    }\n",
              "</style>\n",
              "<table border=\"1\" class=\"dataframe\">\n",
              "  <thead>\n",
              "    <tr style=\"text-align: right;\">\n",
              "      <th></th>\n",
              "    </tr>\n",
              "  </thead>\n",
              "  <tbody>\n",
              "  </tbody>\n",
              "</table>\n",
              "</div>"
            ],
            "text/plain": [
              "Empty DataFrame\n",
              "Columns: []\n",
              "Index: []"
            ]
          },
          "metadata": {
            "tags": []
          },
          "execution_count": 144
        }
      ]
    },
    {
      "cell_type": "code",
      "metadata": {
        "colab": {
          "base_uri": "https://localhost:8080/"
        },
        "id": "Av6SoelYC25W",
        "outputId": "624f5399-1b63-43ad-a3fe-98d603033d28"
      },
      "source": [
        "df1['predict'] = y_pred\n",
        "df1['predict']"
      ],
      "execution_count": 145,
      "outputs": [
        {
          "output_type": "execute_result",
          "data": {
            "text/plain": [
              "0     1695.4\n",
              "1      342.4\n",
              "2      290.2\n",
              "3     1623.4\n",
              "4        9.0\n",
              "       ...  \n",
              "79     334.4\n",
              "80      89.0\n",
              "81     971.5\n",
              "82     118.3\n",
              "83      10.0\n",
              "Name: predict, Length: 84, dtype: float64"
            ]
          },
          "metadata": {
            "tags": []
          },
          "execution_count": 145
        }
      ]
    },
    {
      "cell_type": "code",
      "metadata": {
        "colab": {
          "base_uri": "https://localhost:8080/",
          "height": 283
        },
        "id": "6M4m-T7AC48X",
        "outputId": "c7d97495-7ce0-41c4-e274-678bf6c59bc1"
      },
      "source": [
        "plt.figure(figsize=(8,4))\n",
        "plt.plot(df1['predict'])\n",
        "plt.title(\"Stock Price Volume Test Result\", fontsize = 16)\n",
        "plt.ylabel(\"Price\", fontsize = 14)\n",
        "plt.show()"
      ],
      "execution_count": 146,
      "outputs": [
        {
          "output_type": "display_data",
          "data": {
            "image/png": "[encoded data removed]",
            "text/plain": [
              "<Figure size 576x288 with 1 Axes>"
            ]
          },
          "metadata": {
            "tags": [],
            "needs_background": "light"
          }
        }
      ]
    },
    {
      "cell_type": "markdown",
      "metadata": {
        "id": "TM0pP2UxQJWV"
      },
      "source": [
        "Accuracy of model:"
      ]
    },
    {
      "cell_type": "code",
      "metadata": {
        "colab": {
          "base_uri": "https://localhost:8080/"
        },
        "id": "-lhjTuycC7vc",
        "outputId": "2cb2e6f1-41c4-4897-a511-add299682286"
      },
      "source": [
        "print(\"Accuracy score : \", np.mean(y_pred==y_test))"
      ],
      "execution_count": 147,
      "outputs": [
        {
          "output_type": "stream",
          "text": [
            "Accuracy score :  0.0\n"
          ],
          "name": "stdout"
        }
      ]
    },
    {
      "cell_type": "markdown",
      "metadata": {
        "id": "A5wAWLOSQRJK"
      },
      "source": [
        "Reading and Checking dataset of India News:"
      ]
    },
    {
      "cell_type": "code",
      "metadata": {
        "colab": {
          "base_uri": "https://localhost:8080/",
          "height": 202
        },
        "id": "ajX0yECOv_9W",
        "outputId": "8360f2bb-7b45-4f0c-e141-1e1d885ad3c6"
      },
      "source": [
        "news_df = pd.read_csv('india-news-headlines.csv')\n",
        "news_df.head()"
      ],
      "execution_count": 151,
      "outputs": [
        {
          "output_type": "execute_result",
          "data": {
            "text/html": [
              "<div>\n",
              "<style scoped>\n",
              "    .dataframe tbody tr th:only-of-type {\n",
              "        vertical-align: middle;\n",
              "    }\n",
              "\n",
              "    .dataframe tbody tr th {\n",
              "        vertical-align: top;\n",
              "    }\n",
              "\n",
              "    .dataframe thead th {\n",
              "        text-align: right;\n",
              "    }\n",
              "</style>\n",
              "<table border=\"1\" class=\"dataframe\">\n",
              "  <thead>\n",
              "    <tr style=\"text-align: right;\">\n",
              "      <th></th>\n",
              "      <th>publish_date</th>\n",
              "      <th>headline_category</th>\n",
              "      <th>headline_text</th>\n",
              "    </tr>\n",
              "  </thead>\n",
              "  <tbody>\n",
              "    <tr>\n",
              "      <th>0</th>\n",
              "      <td>20010102</td>\n",
              "      <td>unknown</td>\n",
              "      <td>Status quo will not be disturbed at Ayodhya; s...</td>\n",
              "    </tr>\n",
              "    <tr>\n",
              "      <th>1</th>\n",
              "      <td>20010102</td>\n",
              "      <td>unknown</td>\n",
              "      <td>Fissures in Hurriyat over Pak visit</td>\n",
              "    </tr>\n",
              "    <tr>\n",
              "      <th>2</th>\n",
              "      <td>20010102</td>\n",
              "      <td>unknown</td>\n",
              "      <td>America's unwanted heading for India?</td>\n",
              "    </tr>\n",
              "    <tr>\n",
              "      <th>3</th>\n",
              "      <td>20010102</td>\n",
              "      <td>unknown</td>\n",
              "      <td>For bigwigs; it is destination Goa</td>\n",
              "    </tr>\n",
              "    <tr>\n",
              "      <th>4</th>\n",
              "      <td>20010102</td>\n",
              "      <td>unknown</td>\n",
              "      <td>Extra buses to clear tourist traffic</td>\n",
              "    </tr>\n",
              "  </tbody>\n",
              "</table>\n",
              "</div>"
            ],
            "text/plain": [
              "   publish_date  ...                                      headline_text\n",
              "0      20010102  ...  Status quo will not be disturbed at Ayodhya; s...\n",
              "1      20010102  ...                Fissures in Hurriyat over Pak visit\n",
              "2      20010102  ...              America's unwanted heading for India?\n",
              "3      20010102  ...                 For bigwigs; it is destination Goa\n",
              "4      20010102  ...               Extra buses to clear tourist traffic\n",
              "\n",
              "[5 rows x 3 columns]"
            ]
          },
          "metadata": {
            "tags": []
          },
          "execution_count": 151
        }
      ]
    },
    {
      "cell_type": "code",
      "metadata": {
        "colab": {
          "base_uri": "https://localhost:8080/"
        },
        "id": "aUtGr_7ZDO4m",
        "outputId": "8d1b31c2-2455-41e3-dd9c-f57ceb9a1cd7"
      },
      "source": [
        "news_df.shape"
      ],
      "execution_count": 152,
      "outputs": [
        {
          "output_type": "execute_result",
          "data": {
            "text/plain": [
              "(3424067, 3)"
            ]
          },
          "metadata": {
            "tags": []
          },
          "execution_count": 152
        }
      ]
    },
    {
      "cell_type": "code",
      "metadata": {
        "colab": {
          "base_uri": "https://localhost:8080/"
        },
        "id": "ula3NHEnDV0R",
        "outputId": "07721b65-ea88-433f-ddcd-04d97d5edf5a"
      },
      "source": [
        "news_df.info()"
      ],
      "execution_count": 153,
      "outputs": [
        {
          "output_type": "stream",
          "text": [
            "<class 'pandas.core.frame.DataFrame'>\n",
            "RangeIndex: 3424067 entries, 0 to 3424066\n",
            "Data columns (total 3 columns):\n",
            " #   Column             Dtype \n",
            "---  ------             ----- \n",
            " 0   publish_date       int64 \n",
            " 1   headline_category  object\n",
            " 2   headline_text      object\n",
            "dtypes: int64(1), object(2)\n",
            "memory usage: 78.4+ MB\n"
          ],
          "name": "stdout"
        }
      ]
    },
    {
      "cell_type": "code",
      "metadata": {
        "colab": {
          "base_uri": "https://localhost:8080/"
        },
        "id": "U_gUfZrkDalY",
        "outputId": "f9710c99-83d2-4085-e2ce-508eeb3124c1"
      },
      "source": [
        "news_df.dtypes"
      ],
      "execution_count": 154,
      "outputs": [
        {
          "output_type": "execute_result",
          "data": {
            "text/plain": [
              "publish_date          int64\n",
              "headline_category    object\n",
              "headline_text        object\n",
              "dtype: object"
            ]
          },
          "metadata": {
            "tags": []
          },
          "execution_count": 154
        }
      ]
    },
    {
      "cell_type": "code",
      "metadata": {
        "colab": {
          "base_uri": "https://localhost:8080/"
        },
        "id": "D_qW112ADdnz",
        "outputId": "62498374-6b4a-4974-dd5d-c2f754e9a202"
      },
      "source": [
        "news_df['headline_text']"
      ],
      "execution_count": 155,
      "outputs": [
        {
          "output_type": "execute_result",
          "data": {
            "text/plain": [
              "0          Status quo will not be disturbed at Ayodhya; s...\n",
              "1                        Fissures in Hurriyat over Pak visit\n",
              "2                      America's unwanted heading for India?\n",
              "3                         For bigwigs; it is destination Goa\n",
              "4                       Extra buses to clear tourist traffic\n",
              "                                 ...                        \n",
              "3424062    Covid-19: Despite dip in cases; Rajasthan amon...\n",
              "3424063    Covid-19: Despite dip in cases; Rajasthan amon...\n",
              "3424064    Covid-19: Despite dip in cases; Rajasthan amon...\n",
              "3424065    Govt extends deadline for use of FASTag till F...\n",
              "3424066    Celebs plan to party safely and responsibly on...\n",
              "Name: headline_text, Length: 3424067, dtype: object"
            ]
          },
          "metadata": {
            "tags": []
          },
          "execution_count": 155
        }
      ]
    },
    {
      "cell_type": "markdown",
      "metadata": {
        "id": "BICTX2jGQZoo"
      },
      "source": [
        "Removing Duplicates:"
      ]
    },
    {
      "cell_type": "code",
      "metadata": {
        "colab": {
          "base_uri": "https://localhost:8080/",
          "height": 202
        },
        "id": "UoksoEsODgWi",
        "outputId": "ef78027d-b95c-4414-9494-40186b0416cf"
      },
      "source": [
        "news_df.drop('headline_category', axis=1, inplace=True)\n",
        "news_df['publish_date'] = pd.to_datetime(news_df['publish_date'], format='%Y%m%d')\n",
        "news_df.head()"
      ],
      "execution_count": 156,
      "outputs": [
        {
          "output_type": "execute_result",
          "data": {
            "text/html": [
              "<div>\n",
              "<style scoped>\n",
              "    .dataframe tbody tr th:only-of-type {\n",
              "        vertical-align: middle;\n",
              "    }\n",
              "\n",
              "    .dataframe tbody tr th {\n",
              "        vertical-align: top;\n",
              "    }\n",
              "\n",
              "    .dataframe thead th {\n",
              "        text-align: right;\n",
              "    }\n",
              "</style>\n",
              "<table border=\"1\" class=\"dataframe\">\n",
              "  <thead>\n",
              "    <tr style=\"text-align: right;\">\n",
              "      <th></th>\n",
              "      <th>publish_date</th>\n",
              "      <th>headline_text</th>\n",
              "    </tr>\n",
              "  </thead>\n",
              "  <tbody>\n",
              "    <tr>\n",
              "      <th>0</th>\n",
              "      <td>2001-01-02</td>\n",
              "      <td>Status quo will not be disturbed at Ayodhya; s...</td>\n",
              "    </tr>\n",
              "    <tr>\n",
              "      <th>1</th>\n",
              "      <td>2001-01-02</td>\n",
              "      <td>Fissures in Hurriyat over Pak visit</td>\n",
              "    </tr>\n",
              "    <tr>\n",
              "      <th>2</th>\n",
              "      <td>2001-01-02</td>\n",
              "      <td>America's unwanted heading for India?</td>\n",
              "    </tr>\n",
              "    <tr>\n",
              "      <th>3</th>\n",
              "      <td>2001-01-02</td>\n",
              "      <td>For bigwigs; it is destination Goa</td>\n",
              "    </tr>\n",
              "    <tr>\n",
              "      <th>4</th>\n",
              "      <td>2001-01-02</td>\n",
              "      <td>Extra buses to clear tourist traffic</td>\n",
              "    </tr>\n",
              "  </tbody>\n",
              "</table>\n",
              "</div>"
            ],
            "text/plain": [
              "  publish_date                                      headline_text\n",
              "0   2001-01-02  Status quo will not be disturbed at Ayodhya; s...\n",
              "1   2001-01-02                Fissures in Hurriyat over Pak visit\n",
              "2   2001-01-02              America's unwanted heading for India?\n",
              "3   2001-01-02                 For bigwigs; it is destination Goa\n",
              "4   2001-01-02               Extra buses to clear tourist traffic"
            ]
          },
          "metadata": {
            "tags": []
          },
          "execution_count": 156
        }
      ]
    },
    {
      "cell_type": "code",
      "metadata": {
        "colab": {
          "base_uri": "https://localhost:8080/",
          "height": 202
        },
        "id": "ufoL96bhDkdD",
        "outputId": "5fa9e822-7689-447d-91dc-c17ab56b1f09"
      },
      "source": [
        "news_df.rename(columns={'publish_date': 'Date'}, inplace = True)\n",
        "\n",
        "news_df = news_df.drop_duplicates()\n",
        "news_df.reset_index(inplace=True, drop=True)\n",
        "news_df.head()"
      ],
      "execution_count": 157,
      "outputs": [
        {
          "output_type": "execute_result",
          "data": {
            "text/html": [
              "<div>\n",
              "<style scoped>\n",
              "    .dataframe tbody tr th:only-of-type {\n",
              "        vertical-align: middle;\n",
              "    }\n",
              "\n",
              "    .dataframe tbody tr th {\n",
              "        vertical-align: top;\n",
              "    }\n",
              "\n",
              "    .dataframe thead th {\n",
              "        text-align: right;\n",
              "    }\n",
              "</style>\n",
              "<table border=\"1\" class=\"dataframe\">\n",
              "  <thead>\n",
              "    <tr style=\"text-align: right;\">\n",
              "      <th></th>\n",
              "      <th>Date</th>\n",
              "      <th>headline_text</th>\n",
              "    </tr>\n",
              "  </thead>\n",
              "  <tbody>\n",
              "    <tr>\n",
              "      <th>0</th>\n",
              "      <td>2001-01-02</td>\n",
              "      <td>Status quo will not be disturbed at Ayodhya; s...</td>\n",
              "    </tr>\n",
              "    <tr>\n",
              "      <th>1</th>\n",
              "      <td>2001-01-02</td>\n",
              "      <td>Fissures in Hurriyat over Pak visit</td>\n",
              "    </tr>\n",
              "    <tr>\n",
              "      <th>2</th>\n",
              "      <td>2001-01-02</td>\n",
              "      <td>America's unwanted heading for India?</td>\n",
              "    </tr>\n",
              "    <tr>\n",
              "      <th>3</th>\n",
              "      <td>2001-01-02</td>\n",
              "      <td>For bigwigs; it is destination Goa</td>\n",
              "    </tr>\n",
              "    <tr>\n",
              "      <th>4</th>\n",
              "      <td>2001-01-02</td>\n",
              "      <td>Extra buses to clear tourist traffic</td>\n",
              "    </tr>\n",
              "  </tbody>\n",
              "</table>\n",
              "</div>"
            ],
            "text/plain": [
              "        Date                                      headline_text\n",
              "0 2001-01-02  Status quo will not be disturbed at Ayodhya; s...\n",
              "1 2001-01-02                Fissures in Hurriyat over Pak visit\n",
              "2 2001-01-02              America's unwanted heading for India?\n",
              "3 2001-01-02                 For bigwigs; it is destination Goa\n",
              "4 2001-01-02               Extra buses to clear tourist traffic"
            ]
          },
          "metadata": {
            "tags": []
          },
          "execution_count": 157
        }
      ]
    },
    {
      "cell_type": "markdown",
      "metadata": {
        "id": "VIxJBAPkQfog"
      },
      "source": [
        "Importing TextBlob:"
      ]
    },
    {
      "cell_type": "code",
      "metadata": {
        "colab": {
          "base_uri": "https://localhost:8080/",
          "height": 202
        },
        "id": "IDuBU61uDqMS",
        "outputId": "79a2ab88-7729-42c7-f1f0-4fb407190859"
      },
      "source": [
        "from textblob import TextBlob\n",
        "\n",
        "def getSubjectivity(text):\n",
        "    return TextBlob(text).sentiment.subjectivity\n",
        "\n",
        "def getPolarity(text):\n",
        "    return TextBlob(text).sentiment.polarity\n",
        "\n",
        "news_df['Subjectivity'] = news_df['headline_text'].apply(getSubjectivity)\n",
        "news_df['Polarity'] = news_df['headline_text'].apply(getPolarity)\n",
        "news_df.head()"
      ],
      "execution_count": 158,
      "outputs": [
        {
          "output_type": "execute_result",
          "data": {
            "text/html": [
              "<div>\n",
              "<style scoped>\n",
              "    .dataframe tbody tr th:only-of-type {\n",
              "        vertical-align: middle;\n",
              "    }\n",
              "\n",
              "    .dataframe tbody tr th {\n",
              "        vertical-align: top;\n",
              "    }\n",
              "\n",
              "    .dataframe thead th {\n",
              "        text-align: right;\n",
              "    }\n",
              "</style>\n",
              "<table border=\"1\" class=\"dataframe\">\n",
              "  <thead>\n",
              "    <tr style=\"text-align: right;\">\n",
              "      <th></th>\n",
              "      <th>Date</th>\n",
              "      <th>headline_text</th>\n",
              "      <th>Subjectivity</th>\n",
              "      <th>Polarity</th>\n",
              "    </tr>\n",
              "  </thead>\n",
              "  <tbody>\n",
              "    <tr>\n",
              "      <th>0</th>\n",
              "      <td>2001-01-02</td>\n",
              "      <td>Status quo will not be disturbed at Ayodhya; s...</td>\n",
              "      <td>0.000000</td>\n",
              "      <td>0.00</td>\n",
              "    </tr>\n",
              "    <tr>\n",
              "      <th>1</th>\n",
              "      <td>2001-01-02</td>\n",
              "      <td>Fissures in Hurriyat over Pak visit</td>\n",
              "      <td>0.000000</td>\n",
              "      <td>0.00</td>\n",
              "    </tr>\n",
              "    <tr>\n",
              "      <th>2</th>\n",
              "      <td>2001-01-02</td>\n",
              "      <td>America's unwanted heading for India?</td>\n",
              "      <td>0.000000</td>\n",
              "      <td>0.00</td>\n",
              "    </tr>\n",
              "    <tr>\n",
              "      <th>3</th>\n",
              "      <td>2001-01-02</td>\n",
              "      <td>For bigwigs; it is destination Goa</td>\n",
              "      <td>0.000000</td>\n",
              "      <td>0.00</td>\n",
              "    </tr>\n",
              "    <tr>\n",
              "      <th>4</th>\n",
              "      <td>2001-01-02</td>\n",
              "      <td>Extra buses to clear tourist traffic</td>\n",
              "      <td>0.241667</td>\n",
              "      <td>0.05</td>\n",
              "    </tr>\n",
              "  </tbody>\n",
              "</table>\n",
              "</div>"
            ],
            "text/plain": [
              "        Date  ... Polarity\n",
              "0 2001-01-02  ...     0.00\n",
              "1 2001-01-02  ...     0.00\n",
              "2 2001-01-02  ...     0.00\n",
              "3 2001-01-02  ...     0.00\n",
              "4 2001-01-02  ...     0.05\n",
              "\n",
              "[5 rows x 4 columns]"
            ]
          },
          "metadata": {
            "tags": []
          },
          "execution_count": 158
        }
      ]
    },
    {
      "cell_type": "code",
      "metadata": {
        "colab": {
          "base_uri": "https://localhost:8080/",
          "height": 276
        },
        "id": "PtEvriBtDuj6",
        "outputId": "68b8dd4b-5f10-4315-f172-8a9b5c0fbd3a"
      },
      "source": [
        "plt.figure(figsize = (8,4))\n",
        "news_df['Subjectivity'].hist()\n",
        "plt.show()"
      ],
      "execution_count": 159,
      "outputs": [
        {
          "output_type": "display_data",
          "data": {
            "image/png": "[encoded data removed]",
            "text/plain": [
              "<Figure size 576x288 with 1 Axes>"
            ]
          },
          "metadata": {
            "tags": [],
            "needs_background": "light"
          }
        }
      ]
    },
    {
      "cell_type": "code",
      "metadata": {
        "colab": {
          "base_uri": "https://localhost:8080/",
          "height": 276
        },
        "id": "McnAX-1DGAm4",
        "outputId": "c4a0f080-a2c4-4d35-fb9b-e74ed96c787d"
      },
      "source": [
        "plt.figure(figsize = (8,4))\n",
        "news_df['Polarity'].hist()\n",
        "plt.show()"
      ],
      "execution_count": 160,
      "outputs": [
        {
          "output_type": "display_data",
          "data": {
            "image/png": "[encoded data removed]",
            "text/plain": [
              "<Figure size 576x288 with 1 Axes>"
            ]
          },
          "metadata": {
            "tags": [],
            "needs_background": "light"
          }
        }
      ]
    },
    {
      "cell_type": "markdown",
      "metadata": {
        "id": "X6WtVhhOQl23"
      },
      "source": [
        "SentimentIntensity Analyzer:"
      ]
    },
    {
      "cell_type": "code",
      "metadata": {
        "colab": {
          "base_uri": "https://localhost:8080/"
        },
        "id": "D1qLm_MPJd2g",
        "outputId": "69f331fa-4560-4a2d-8869-417e4c99d5df"
      },
      "source": [
        "pip install vaderSentiment"
      ],
      "execution_count": 165,
      "outputs": [
        {
          "output_type": "stream",
          "text": [
            "Collecting vaderSentiment\n",
            "\u001b[?25l  Downloading https://files.pythonhosted.org/packages/76/fc/310e16254683c1ed35eeb97386986d6c00bc29df17ce280aed64d55537e9/vaderSentiment-3.3.2-py2.py3-none-any.whl (125kB)\n",
            "\r\u001b[K     |██▋                             | 10kB 15.1MB/s eta 0:00:01\r\u001b[K     |█████▏                          | 20kB 8.8MB/s eta 0:00:01\r\u001b[K     |███████▉                        | 30kB 6.7MB/s eta 0:00:01\r\u001b[K     |██████████▍                     | 40kB 6.6MB/s eta 0:00:01\r\u001b[K     |█████████████                   | 51kB 4.3MB/s eta 0:00:01\r\u001b[K     |███████████████▋                | 61kB 4.8MB/s eta 0:00:01\r\u001b[K     |██████████████████▏             | 71kB 5.0MB/s eta 0:00:01\r\u001b[K     |████████████████████▉           | 81kB 5.2MB/s eta 0:00:01\r\u001b[K     |███████████████████████▍        | 92kB 5.3MB/s eta 0:00:01\r\u001b[K     |██████████████████████████      | 102kB 5.5MB/s eta 0:00:01\r\u001b[K     |████████████████████████████▋   | 112kB 5.5MB/s eta 0:00:01\r\u001b[K     |███████████████████████████████▏| 122kB 5.5MB/s eta 0:00:01\r\u001b[K     |████████████████████████████████| 133kB 5.5MB/s \n",
            "\u001b[?25hRequirement already satisfied: requests in /usr/local/lib/python3.7/dist-packages (from vaderSentiment) (2.23.0)\n",
            "Requirement already satisfied: urllib3!=1.25.0,!=1.25.1,<1.26,>=1.21.1 in /usr/local/lib/python3.7/dist-packages (from requests->vaderSentiment) (1.24.3)\n",
            "Requirement already satisfied: certifi>=2017.4.17 in /usr/local/lib/python3.7/dist-packages (from requests->vaderSentiment) (2020.12.5)\n",
            "Requirement already satisfied: chardet<4,>=3.0.2 in /usr/local/lib/python3.7/dist-packages (from requests->vaderSentiment) (3.0.4)\n",
            "Requirement already satisfied: idna<3,>=2.5 in /usr/local/lib/python3.7/dist-packages (from requests->vaderSentiment) (2.10)\n",
            "Installing collected packages: vaderSentiment\n",
            "Successfully installed vaderSentiment-3.3.2\n"
          ],
          "name": "stdout"
        }
      ]
    },
    {
      "cell_type": "code",
      "metadata": {
        "colab": {
          "base_uri": "https://localhost:8080/",
          "height": 202
        },
        "id": "8mwgfAqqJwyb",
        "outputId": "b16e158f-bd94-4f06-e114-dbfeeef062fb"
      },
      "source": [
        "from vaderSentiment.vaderSentiment import SentimentIntensityAnalyzer \n",
        "\n",
        "senti_ana = SentimentIntensityAnalyzer()\n",
        "\n",
        "news_df['compound'] = [senti_ana.polarity_scores(i)['compound'] for i in news_df['headline_text']]\n",
        "news_df['Negative'] = [senti_ana.polarity_scores(i)['neg'] for i in news_df['headline_text']]\n",
        "news_df['Neutral'] = [senti_ana.polarity_scores(i)['neu'] for i in news_df['headline_text']]\n",
        "news_df['Positive'] = [senti_ana.polarity_scores(i)['pos'] for i in news_df['headline_text']]\n",
        "\n",
        "news_df.head()"
      ],
      "execution_count": 166,
      "outputs": [
        {
          "output_type": "execute_result",
          "data": {
            "text/html": [
              "<div>\n",
              "<style scoped>\n",
              "    .dataframe tbody tr th:only-of-type {\n",
              "        vertical-align: middle;\n",
              "    }\n",
              "\n",
              "    .dataframe tbody tr th {\n",
              "        vertical-align: top;\n",
              "    }\n",
              "\n",
              "    .dataframe thead th {\n",
              "        text-align: right;\n",
              "    }\n",
              "</style>\n",
              "<table border=\"1\" class=\"dataframe\">\n",
              "  <thead>\n",
              "    <tr style=\"text-align: right;\">\n",
              "      <th></th>\n",
              "      <th>Date</th>\n",
              "      <th>headline_text</th>\n",
              "      <th>Subjectivity</th>\n",
              "      <th>Polarity</th>\n",
              "      <th>compound</th>\n",
              "      <th>Negative</th>\n",
              "      <th>Neutral</th>\n",
              "      <th>Positive</th>\n",
              "    </tr>\n",
              "  </thead>\n",
              "  <tbody>\n",
              "    <tr>\n",
              "      <th>0</th>\n",
              "      <td>2001-01-02</td>\n",
              "      <td>Status quo will not be disturbed at Ayodhya; s...</td>\n",
              "      <td>0.000000</td>\n",
              "      <td>0.00</td>\n",
              "      <td>0.2924</td>\n",
              "      <td>0.000</td>\n",
              "      <td>0.805</td>\n",
              "      <td>0.195</td>\n",
              "    </tr>\n",
              "    <tr>\n",
              "      <th>1</th>\n",
              "      <td>2001-01-02</td>\n",
              "      <td>Fissures in Hurriyat over Pak visit</td>\n",
              "      <td>0.000000</td>\n",
              "      <td>0.00</td>\n",
              "      <td>0.0000</td>\n",
              "      <td>0.000</td>\n",
              "      <td>1.000</td>\n",
              "      <td>0.000</td>\n",
              "    </tr>\n",
              "    <tr>\n",
              "      <th>2</th>\n",
              "      <td>2001-01-02</td>\n",
              "      <td>America's unwanted heading for India?</td>\n",
              "      <td>0.000000</td>\n",
              "      <td>0.00</td>\n",
              "      <td>-0.2263</td>\n",
              "      <td>0.322</td>\n",
              "      <td>0.678</td>\n",
              "      <td>0.000</td>\n",
              "    </tr>\n",
              "    <tr>\n",
              "      <th>3</th>\n",
              "      <td>2001-01-02</td>\n",
              "      <td>For bigwigs; it is destination Goa</td>\n",
              "      <td>0.000000</td>\n",
              "      <td>0.00</td>\n",
              "      <td>0.0000</td>\n",
              "      <td>0.000</td>\n",
              "      <td>1.000</td>\n",
              "      <td>0.000</td>\n",
              "    </tr>\n",
              "    <tr>\n",
              "      <th>4</th>\n",
              "      <td>2001-01-02</td>\n",
              "      <td>Extra buses to clear tourist traffic</td>\n",
              "      <td>0.241667</td>\n",
              "      <td>0.05</td>\n",
              "      <td>0.3818</td>\n",
              "      <td>0.000</td>\n",
              "      <td>0.658</td>\n",
              "      <td>0.342</td>\n",
              "    </tr>\n",
              "  </tbody>\n",
              "</table>\n",
              "</div>"
            ],
            "text/plain": [
              "        Date  ... Positive\n",
              "0 2001-01-02  ...    0.195\n",
              "1 2001-01-02  ...    0.000\n",
              "2 2001-01-02  ...    0.000\n",
              "3 2001-01-02  ...    0.000\n",
              "4 2001-01-02  ...    0.342\n",
              "\n",
              "[5 rows x 8 columns]"
            ]
          },
          "metadata": {
            "tags": []
          },
          "execution_count": 166
        }
      ]
    },
    {
      "cell_type": "code",
      "metadata": {
        "id": "cmVqau4zJ04f"
      },
      "source": [
        ""
      ],
      "execution_count": null,
      "outputs": []
    }
  ]
}